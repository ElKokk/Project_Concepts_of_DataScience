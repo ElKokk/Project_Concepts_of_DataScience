{
 "cells": [
  {
   "cell_type": "markdown",
   "metadata": {
    "collapsed": true
   },
   "source": [
    "## Project Concepts of Data Science\n",
    "\n",
    "### Authors: Eleftherios Kokkinis (2262635) -  Engie Rakipi"
   ]
  },
  {
   "cell_type": "markdown",
   "metadata": {},
   "source": [
    "1. [Introduction](#Introduction)\n",
    "    1. [Definition of a Ternary Search Tree](#Definition_of_a_Ternary_Search_Tree)\n",
    "    2. [Brief description of the algorithm](#Brief_description_of_the_algorithm)\n",
    "    3. [Avantages of TSTs](#advantages_of_TSTs)\n",
    "2. [Complexity Analysis of TST](#Complexity_analysis_of_the_operations)\n",
    "    1. [Time complexity of traversing the trie](#Trie_complexity)\n",
    "    2. [Time complexity of traversing the BSTs in a TST](#BST_complexity)\n",
    "    3. [Balanced BST](#Balanced_BSTs)\n",
    "    4. [Unbalanced BST](#Unbalanced_BSTs)\n",
    "    5. [Best and Worst case scenarios](#Best_and_Worst_case)\n",
    "    6. [Time complexity for a Search miss](#Search_miss)\n",
    "\n",
    "3. [Implementation](#Implementation)\n",
    "    1. [Python class definition for the TST](#Python_class_definition_for_the_TST)\n",
    "    2. [Implementation of the insert operation](#Implementation_of_the_insert_operation)\n",
    "    3. [Implementation of the search operation](#Implementation_of_the_search_operation)\n",
    "    4. [Implementation of the all_string operation](#Implementation_of_the_all_string_operation)\n",
    "4. [Example Usage](#Example_Usage)\n",
    "    1. [Creation of a TST](#Creation_of_a_TST)\n",
    "    2. [Insertion of elements into the TST](#Insertion_of_elements_into_the_TST)\n",
    "    3. [Searching for elements in the TST](#Searching_for_elements_in_the_TST)\n",
    "    4. [Displaying all strings in the TST](#Displaying_all_strings_in_the_TST)\n",
    "    5. [Plotting the TST](#Plotting_the_TST)\n",
    "5. [Testing](#Testing)\n",
    "    1. [Unit tests for the insert operation](#Unit_tests_for_the_insert_operation)\n",
    "    2. [Unit tests for the search operation](#Unit_tests_for_the_search_operation)\n",
    "    3. [Unit tests for the all_string operation](#Unit_tests_for_the_all_string_operation)\n",
    "6. [Discussion](#Discussion)\n",
    "    1. [Discussion on the expected complexity of the algorithm and operations](#Discussion_on_the_expected_complexity)\n",
    "    2. [Comparison of the implementation with the theoretical expectations](#Comparison_of_the_implementation_with_the_theoretical_expectations)\n",
    "7. [Benchmarking](#Benchmarking)\n",
    "    1. [Generation of a larger dataset](#Generation_of_a_larger_dataset)\n",
    "    2. [Benchmarking the scaling behavior of the implementation](#Benchmarking_the_scaling_behavior_of_the_implementation)\n",
    "    3. [Analysis and interpretation of the benchmarking results](#Analysis_and_interpretation_of_the_benchmarking_results)\n",
    "8. [Conclusion](#Conclusion)\n",
    "    1. [Summary of the project](#Summary_of_the_project)\n",
    "    2. [Potential improvements and future work](#Potential_improvements_and_future_work)\n",
    "\n",
    "9. [References](#references)"
   ]
  },
  {
   "cell_type": "markdown",
   "metadata": {},
   "source": [
    "## Introduction <a name=\"Introduction\"></a>\n",
    "\n",
    "The goal of this project is to implement a Ternary Search Tree (TST) in Python, with operations for insertion, searching, and retrieving all strings. We will also analyze the time complexity of these operations and benchmark the implementation to verify its performance characteristics. In the end, this project should be able to provide a practical understanding of TSTs and their applications."
   ]
  },
  {
   "cell_type": "markdown",
   "metadata": {},
   "source": [
    "### Definition of a Ternary Search Tree <a name=\"Definition_of_a_Ternary_Search_Tree\"></a>\n",
    "\n",
    "A Ternary Search Tree (TST) is a special type of trie data structure where nodes are arranged in a manner similar to a binary search tree, but with up to three children rather than the binary tree's limit of two. Each node has a character, three links and a value. The three links correspond to keys whose current characters are less than, equal to, or greater than the node’s character ([Sedgewick and Wayne, 2011](#references)). Like other prefix trees, a TST can be used to store strings over an alphabet. It is efficient for queries like \"Give me all strings with the prefix 'abc'\", which is particularly useful in applications like providing word suggestions in a text editor."
   ]
  },
  {
   "cell_type": "markdown",
   "metadata": {},
   "source": [
    "### Brief description of the algorithm <a name=\"Brief_description_of_the_algorithm\"></a>\n",
    "\n",
    "To search and insert we first compare the first character in the key with the character at the root. If it less, we take the left link; if it is greater, we take the right link; and if it is equal, we take the middle link and move to the next search key character. In each case, we apply the algorithm recursively. We terminate with a search miss if we encounter a null link or if the node where the search ends has a null value, and we terminate with a search hit if the node where the search ends has a non-null value.\n",
    "\n",
    "\n",
    "This representation was initially provided by Jon Bentley and Sedgewick. A ternary search tree takes the advantages of binary search trees and tries. That means it combines the memory efficiency of BSTs and the time efficiency of tries. ([Karumanchi, N., 2016](#references))\n",
    "\n",
    "\n",
    "To insert a new key, we search, then add new nodes for the characters in the tail of the key. We use the characters of the key to guide us down the TST until reaching the last character of the key or a null link. At this point, one of the following two conditions holds:\n",
    "\n",
    "1) We encountered a null link before reaching the last character of the key. In this\n",
    "case, there is no trie node corresponding to the last character in the key, so we\n",
    "need to create nodes for each of the characters in the key not yet encountered\n",
    "and set the value in the last one to the value to be associated with the key.\n",
    "\n",
    "\n",
    "2) We encountered the last character of the key before reaching a null link. In this\n",
    "case, we set that node’s value to the value to be associated with the key (whether\n",
    "or not that value is null), as usual with our associative array convention."
   ]
  },
  {
   "cell_type": "markdown",
   "metadata": {},
   "source": [
    "### Complexity analysis<a name=\"Complexity_analysis_of_the_operations\"></a>\n",
    "\n",
    "Let's define:\n",
    "\n",
    "N = number of keys in the TST \\\n",
    "L = length of the key \\\n",
    "R = alphabet size (26 for the English alphabet) \n",
    "\n",
    "**Search and Insert Cost**: The cost of a search hit operation (searching for a key that exists or inserting a key) in a TST is determined by two factors: the cost of traversing the trie structure (which is proportional to the length of the key, L) and the cost of traversing the Binary Search Tree (BST) representation of each trie node.\n",
    "\n",
    "Both the search and insert operatiosn in a TST have similar cost for a search hit. That's because in order to insert a key we need to find the position where the key should be inserted, which involves traversing the TST in the same way as a search operation. Once we find the position, we insert the key, which takes constant time. "
   ]
  },
  {
   "cell_type": "markdown",
   "metadata": {},
   "source": [
    "#### Time complexity of traversing the trie<a name=\"Trie_complexity\"></a>\n",
    "\n",
    "Specifically about traversing the trie structure, in a TST, each node contains a character of a key. As we described previously when we're searching for a key, we start at the root of the TST and compare the first character of our key with the character at the current node. If they match, we move to the middle child and proceed to the next character in our key or we move to the left/right child. This process continues until we've either found our key or reached a null link.\n",
    "\n",
    "The cost of this traversal is proportional to the length of the key, L, because we need to make a comparison for each character in the key. This is represented as O(L), where O is the notation for time complexity.\n",
    "\n",
    "Although the time complexity O(L) represents the number of character comparisons in the key itself, it doesn't account for the comparisons that we need to do to navigate the tree structure.\n",
    "\n",
    "#### Time complexity of traversing the BSTs in a TST<a name=\"BST_complexity\"></a>\n",
    "\n",
    "Now, each node in a TST also acts like a Binary Search Tree for the characters of the keys. So, when we're at a node and we want to move to the child that corresponds to the next character in our key, we need to traverse this BST. The cost of this traversal depends on how well balanced the TST (all the BSTs) is.\n",
    "\n",
    "#### Balanced BSTs <a name=\"Balanced_BSTs\"></a>\n",
    "\n",
    "In a perfectly balanced BST, the number of nodes doubles with each additional level of the tree, so the height of the tree (and therefore the maximum number of nodes that we need to examine in a search operation) is logarithmic in the number of keys N. Therefore, the cost the search cost in a BST is O(${\\log N}$).\n",
    "\n",
    "So, the total cost of a search operation in a TST is the sum of the cost of traversing the trie structure an of traversing the BSTs: O(L + ${\\log N}$ ).\n",
    "\n",
    "#### Unbalanced BSTs <a name=\"Unbalanced_BSTs\"></a>\n",
    "\n",
    "However, if the keys are not randomly inserted, the BSTs in our TST would be unbalanced. For instance, in the case where the keys are inserted in sorted order the TST would degenerate into a linked list and the search cost would become linear in the number of keys, N, time complexity: O(N).\n",
    "\n",
    "Therefore, the time complexity of a search in a TST in that case would be O(L + N).\n",
    "\n",
    "\n",
    "#### Base and Worst Case <a name=\"Base_and_Worst_Case\"></a>\n",
    "\n",
    "In conclusion we can say that we have a best case and worst case scenario when considering the algorithm's time complexity.\n",
    "\n",
    "Best Case: The best case occurs when the TST is perfectly balanced, i.e., the keys are evenly distributed so that each left and right subtree contains roughly the same number of nodes. In this case, the time complexity is O(L), where L is the length of the key. This is because we only need to compare each character in the key once.\n",
    "\n",
    "Worst Case: The worst case occurs when the TST is unbalanced, i.e., all the keys are such that they always go to the left child or the right child, making the TST resemble a linked list. In this case, the time complexity is O(L + N) as searching would require traversing through most or all of the keys (N), plus the comparisons equal to the length of the key (L). That's because we might have to traverse almost all the nodes in the tree to find or insert a key.\n",
    "\n",
    "#### Example\n",
    "\n",
    "As an example we consider a TST with 8 keys, and we're searching for a key of length 3.\n",
    "\n",
    "The cost of traversing the trie structure would be O(3) = 3.\n",
    "\n",
    "The cost of traversing the balanced BSTs representations of each trie node is logarithmic in the number of keys, so it's O(${\\log 8}$) = 3.\n",
    "\n",
    "Therefore, the total cost of the search operation would O(3 + 3) = O(6).\n",
    "\n",
    "On the other hand, the time complexity of traversing unabalanced TST would be O(8) = 8 . \\\n",
    "The total cost of the search of the TST would be O(3 + 8) = O(11) = 11\n",
    "\n",
    "\n",
    "#### Time complexity of a search miss <a name=\"Search_miss\"></a>\n",
    "\n",
    "The cost of a search miss (searching for a key that does not exist) relies on the assumption that most of the nodes in the TST behave like random BSTs ([Sedgewick and Wayne, 2011](#references)). This means that the average path length in these BSTs is ln R, where R is the number of different character values. Therefore the total cost of a search miss is: $$ \\log_R N = \\frac{\\ln N}{\\ln R} \\cdot \\ln R = \\ln N $$"
   ]
  },
  {
   "cell_type": "markdown",
   "metadata": {},
   "source": [
    "## Implementation <a name=\"Implementation\"></a>\n",
    "\n",
    "Implementation of a TST in Python, using recursion."
   ]
  },
  {
   "cell_type": "code",
   "execution_count": 1,
   "outputs": [],
   "source": [
    "class Node:\n",
    "    def __init__(self, char, left=None, mid=None, right=None, val=None):\n",
    "        self.char = char\n",
    "        self.left = left\n",
    "        self.mid = mid\n",
    "        self.right = right\n",
    "        self.val = val\n",
    "\n",
    "class TST:\n",
    "    def __init__(self):\n",
    "        self.root = None\n",
    "\n",
    "    def search(self, key):\n",
    "        node = self._search(self.root, key, 0)\n",
    "        if node is None:\n",
    "            return None\n",
    "        return node.val\n",
    "\n",
    "    def _search(self, node, key, d):\n",
    "        if node is None:\n",
    "            return None\n",
    "        char = key[d]\n",
    "        if char < node.char:\n",
    "            return self._search(node.left, key, d)\n",
    "        elif char > node.char:\n",
    "            return self._search(node.right, key, d)\n",
    "        elif d < len(key) - 1:\n",
    "            return self._search(node.mid, key, d + 1)\n",
    "        else:\n",
    "            return node\n",
    "\n",
    "    def insert(self, key, val):\n",
    "        self.root = self._insert(self.root, key, val, 0)\n",
    "\n",
    "    def _insert(self, node, key, val, d):\n",
    "        char = key[d]\n",
    "        if node is None:\n",
    "            node = Node(char)\n",
    "        if char < node.char:\n",
    "            node.left = self._insert(node.left, key, val, d)\n",
    "        elif char > node.char:\n",
    "            node.right = self._insert(node.right, key, val, d)\n",
    "        elif d < len(key) - 1:\n",
    "            node.mid = self._insert(node.mid, key, val, d + 1)\n",
    "        else:\n",
    "            node.val = val\n",
    "        return node"
   ],
   "metadata": {
    "collapsed": false,
    "ExecuteTime": {
     "end_time": "2023-06-12T12:55:01.771611Z",
     "start_time": "2023-06-12T12:55:01.755645600Z"
    }
   }
  },
  {
   "cell_type": "markdown",
   "metadata": {},
   "source": [
    "### Python class definition for the TST <a name=\"Python_class_definition_for_the_TST\"></a>"
   ]
  },
  {
   "cell_type": "markdown",
   "metadata": {},
   "source": [
    "### Creation of a TST <a name=\"Creation_of_a_TST\"></a>"
   ]
  },
  {
   "cell_type": "markdown",
   "metadata": {},
   "source": [
    "### Insertion of elements into the TST <a name=\"Insertion_of_elements_into_the_TST\"></a>"
   ]
  },
  {
   "cell_type": "markdown",
   "metadata": {},
   "source": [
    "### Searching for elements in the TST <a name=\"Searching_for_elements_in_the_TST\"></a>"
   ]
  },
  {
   "cell_type": "markdown",
   "metadata": {},
   "source": [
    "### Displaying all strings in the TST <a name=\"Displaying_all_strings_in_the_TST\"></a>"
   ]
  },
  {
   "cell_type": "markdown",
   "metadata": {},
   "source": [
    "### Plotting the TST <a name=\"Plotting_the_TST\"></a>"
   ]
  },
  {
   "cell_type": "markdown",
   "metadata": {},
   "source": [
    "## Testing <a name=\"Testing\"></a>"
   ]
  },
  {
   "cell_type": "markdown",
   "metadata": {},
   "source": [
    "### Unit tests for the insert operation <a name=\"Unit_tests_for_the_insert_operation\"></a>"
   ]
  },
  {
   "cell_type": "markdown",
   "metadata": {},
   "source": [
    "### Unit tests for the search operation <a name=\"Unit_tests_for_the_search_operation\"></a>"
   ]
  },
  {
   "cell_type": "markdown",
   "metadata": {},
   "source": [
    "### Unit tests for the all_string operation <a name=\"Unit_tests_for_the_all_string_operation\"></a>"
   ]
  },
  {
   "cell_type": "markdown",
   "metadata": {},
   "source": [
    "## Discussion <a name=\"Discussion\"></a>"
   ]
  },
  {
   "cell_type": "markdown",
   "metadata": {},
   "source": [
    "### Discussion on the expected complexity of the algorithm and operations <a name=\"Discussion_on_the_expected_complexity\"></a>"
   ]
  },
  {
   "cell_type": "markdown",
   "metadata": {},
   "source": [
    "### Comparison of the implementation with the theoretical expectations <a name=\"Comparison_of_the_implementation_with_the_theoretical_expectations\"></a>"
   ]
  },
  {
   "cell_type": "markdown",
   "metadata": {},
   "source": [
    "## Benchmarking <a name=\"Benchmarking\"></a>"
   ]
  },
  {
   "cell_type": "markdown",
   "metadata": {},
   "source": [
    "### Generation of a larger dataset <a name=\"Generation_of_a_larger_dataset\"></a>"
   ]
  },
  {
   "cell_type": "markdown",
   "metadata": {},
   "source": [
    "### Benchmarking the scaling behavior of the implementation <a name=\"Benchmarking_the_scaling_behavior_of_the_implementation\"></a>"
   ]
  },
  {
   "cell_type": "markdown",
   "metadata": {},
   "source": [
    "### Analysis and interpretation of the benchmarking results <a name=\"Analysis_and_interpretation_of_the_benchmarking_results\"></a>"
   ]
  },
  {
   "cell_type": "markdown",
   "metadata": {},
   "source": [
    "## Conclusion <a name=\"Conclusion\"></a>"
   ]
  },
  {
   "cell_type": "markdown",
   "metadata": {},
   "source": [
    "### Summary of the project <a name=\"Summary_of_the_project\"></a>"
   ]
  },
  {
   "cell_type": "markdown",
   "metadata": {},
   "source": [
    "### Potential improvements and future work <a name=\"Potential_improvements_and_future_work\"></a>"
   ]
  },
  {
   "cell_type": "markdown",
   "metadata": {},
   "source": [
    "## References <a name=\"references\"></a>\n",
    "\n",
    "1. Sedgewick, R. & Wayne, K. (2011), Algorithms, 4th Edition. , Addison-Wesley.\n",
    "2. Karumanchi, N., (2016), Data Structures and Algorithmic Thinking with Python, CareerMonk Publications."
   ]
  },
  {
   "cell_type": "code",
   "execution_count": null,
   "metadata": {
    "ExecuteTime": {
     "end_time": "2023-06-12T11:54:00.261876600Z",
     "start_time": "2023-06-12T11:54:00.242576400Z"
    }
   },
   "outputs": [],
   "source": []
  },
  {
   "cell_type": "code",
   "execution_count": null,
   "metadata": {
    "ExecuteTime": {
     "end_time": "2023-06-12T11:54:00.303629500Z",
     "start_time": "2023-06-12T11:54:00.261876600Z"
    }
   },
   "outputs": [],
   "source": []
  }
 ],
 "metadata": {
  "kernelspec": {
   "display_name": "Python 3 (ipykernel)",
   "language": "python",
   "name": "python3"
  },
  "language_info": {
   "codemirror_mode": {
    "name": "ipython",
    "version": 3
   },
   "file_extension": ".py",
   "mimetype": "text/x-python",
   "name": "python",
   "nbconvert_exporter": "python",
   "pygments_lexer": "ipython3",
   "version": "3.10.9"
  }
 },
 "nbformat": 4,
 "nbformat_minor": 1
}
