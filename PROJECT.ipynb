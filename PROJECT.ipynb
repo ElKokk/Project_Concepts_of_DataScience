{
 "cells": [
  {
   "cell_type": "markdown",
   "metadata": {
    "collapsed": true
   },
   "source": [
    "## Project Concepts of Data Science\n",
    "\n",
    "### Authors: Eleftherios Kokkinis (2262635) -  Engie Rakipi"
   ]
  },
  {
   "cell_type": "markdown",
   "metadata": {},
   "source": [
    "1. [Introduction](#Introduction)\n",
    "    1. [Definition of a Ternary Search Tree](#Definition_of_a_Ternary_Search_Tree)\n",
    "    2. [Brief description of the algorithm](#Brief_description_of_the_algorithm)\n",
    "    3. [Avantages of TSTs](#advantages_of_TSTs)\n",
    "  \n",
    "    \n",
    "2. [Complexity Analysis of TST](#Complexity_analysis_of_the_operations)\n",
    "    1. [Time complexity of traversing the trie](#Trie_complexity)\n",
    "    2. [Time complexity of traversing the BSTs in a TST](#BST_complexity)\n",
    "    3. [Balanced BSTs in a TST](#Balanced_BSTs)\n",
    "    4. [Unbalanced BSTs in a TST](#Unbalanced_BSTs)\n",
    "    5. [Best and Worst case scenarios](#Best_and_Worst_case)\n",
    "    6. [Time complexity for a Search miss](#Search_miss)\n",
    "    7. [Time complexity of all_strings()](#all_strings)\n",
    "\n",
    "3. [Implementation](#Implementation)\n",
    "    1. [Python class definition for the TST](#Python_class_definition_for_the_TST)\n",
    "    2. [Documentation](#Documentation)\n",
    "    4. [Example Usage](#Example_Usage)\n",
    "    \n",
    "5. [Testing](#Testing)\n",
    "    \n",
    "    \n",
    "6. [Performance](#Discussion)\n",
    "    1. [Discussion on the expected complexity of the algorithm and operations](#Discussion_on_the_expected_complexity)\n",
    "   2. [Comparison of the implementation with the theoretical expectations](#Comparison_of_the_implementation_with_the_theoretical_expectations)\n",
    "    3. [Generation of a larger dataset](#Generation_of_a_larger_dataset)\n",
    "    4. [Benchmarking the scaling behavior of the implementation](#Benchmarking_the_scaling_behavior_of_the_implementation)\n",
    "    5. [Analysis and interpretation of the benchmarking results](#Analysis_and_interpretation_of_the_benchmarking_results)\n",
    "    \n",
    "    \n",
    "8. [Conclusion](#Conclusion)\n",
    "    1. [Summary of the project](#Summary_of_the_project)\n",
    "    2. [Potential improvements and future work](#Potential_improvements_and_future_work)\n",
    "\n",
    "9. [References](#references)"
   ]
  },
  {
   "cell_type": "markdown",
   "metadata": {},
   "source": [
    "## Introduction <a name=\"Introduction\"></a>\n",
    "\n",
    "The goal of this project is to implement a Ternary Search Tree (TST) in Python, with operations for insertion, searching, and retrieving all strings. We will also analyze the time complexity of these operations and benchmark the implementation to verify its performance characteristics. In the end, this project should be able to provide an understanding of TSTs and their performance characteristics, as well as a working implementation of a TST in Python."
   ]
  },
  {
   "cell_type": "markdown",
   "metadata": {},
   "source": [
    "### Definition of a Ternary Search Tree <a name=\"Definition_of_a_Ternary_Search_Tree\"></a>\n",
    "\n",
    "A Ternary Search Tree (TST) is a special type of trie data structure where nodes are arranged in a manner similar to a binary search tree, but with up to three children rather than the binary tree's limit of two. Each node has a character, three links and a value. The three links correspond to keys whose current characters are less than, equal to, or greater than the node’s character ([Sedgewick and Wayne, 2011](#references)). Like other prefix trees, a TST can be used to store strings over an alphabet. It is efficient for queries like \"Give me all strings with the prefix 'abc'\", which is particularly useful in applications like providing word suggestions in a text editor."
   ]
  },
  {
   "cell_type": "markdown",
   "metadata": {},
   "source": [
    "### Brief description of the algorithm <a name=\"Brief_description_of_the_algorithm\"></a>\n",
    "\n",
    "To search and insert we first compare the first character in the key with the character at the root. If it less, we take the left link; if it is greater, we take the right link; and if it is equal, we take the middle link and move to the next search key character. In each case, we apply the algorithm recursively. We terminate with a search miss if we encounter a null link or if the node where the search ends has a null value, and we terminate with a search hit if the node where the search ends has a non-null value.\n",
    "\n",
    "\n",
    "This representation was initially provided by Jon Bentley and Sedgewick. A ternary search tree takes the advantages of binary search trees and tries. That means it combines the memory efficiency of BSTs and the time efficiency of tries. ([Karumanchi, N., 2016](#references))\n",
    "\n",
    "\n",
    "To insert a new key, we search, then add new nodes for the characters in the tail of the key. We use the characters of the key to guide us down the TST until reaching the last character of the key or a null link. At this point, one of the following two conditions holds:\n",
    "\n",
    "1) We encountered a null link before reaching the last character of the key. In this\n",
    "case, there is no trie node corresponding to the last character in the key, so we\n",
    "need to create nodes for each of the characters in the key not yet encountered\n",
    "and set the value in the last one to the value to be associated with the key.\n",
    "\n",
    "\n",
    "2) We encountered the last character of the key before reaching a null link. In this\n",
    "case, we set that node’s value to the value to be associated with the key (whether\n",
    "or not that value is null), as usual with our associative array convention."
   ]
  },
  {
   "cell_type": "markdown",
   "metadata": {},
   "source": [
    "### Complexity analysis<a name=\"Complexity_analysis_of_the_operations\"></a>\n",
    "\n",
    "Let's define:\n",
    "\n",
    "N = number of keys in the TST \\\n",
    "L = length of the key \\\n",
    "R = alphabet size (26 for the English alphabet) \n",
    "\n",
    "**Search and Insert Cost**: The cost of a search hit operation (searching for a key that exists or inserting a key) in a TST is determined by two factors: the cost of traversing the trie structure (which is proportional to the length of the key, L) and the cost of traversing the Binary Search Tree representation of each trie node.\n",
    "\n",
    "Both the search and insert operatiosn in a TST have similar cost for a search hit. That's because in order to insert a key we need to find the position where the key should be inserted, which involves traversing the TST in the same way as a search operation. Once we find the position, we insert the key, which takes constant time."
   ]
  },
  {
   "cell_type": "markdown",
   "metadata": {},
   "source": [
    "#### Time complexity of traversing the trie<a name=\"Trie_complexity\"></a>\n",
    "\n",
    "Specifically about traversing the trie structure, in a TST, each node contains a character of a key. As we described previously when we're searching for a key, we start at the root of the TST and compare the first character of our key with the character at the current node. If they match, we move to the middle child and proceed to the next character in our key or we move to the left/right child. This process continues until we've either found our key or reached a null link.\n",
    "\n",
    "The cost of this traversal is proportional to the length of the key, L, because we need to make a comparison for each character in the key. This is represented as O(L), where O is the notation for time complexity.\n",
    "\n",
    "Although the time complexity O(L) represents the number of character comparisons in the key itself, it doesn't account for the comparisons that we need to do to navigate the tree structure.\n",
    "\n",
    "#### Time complexity of traversing the BSTs in a TST<a name=\"BST_complexity\"></a>\n",
    "\n",
    "Now, each node in a TST also acts like a Binary Search Tree for the characters of the keys. So, when we're at a node and we want to move to the child that corresponds to the next character in our key, we need to traverse this BST. The cost of this traversal depends on how well balanced the TST (all the BSTs) is.\n",
    "\n",
    "#### Balanced BSTs <a name=\"Balanced_BSTs\"></a>\n",
    "\n",
    "In a perfectly balanced BST, the number of nodes doubles with each additional level of the tree, so the height of the tree (and therefore the maximum number of nodes that we need to examine in a search operation) is logarithmic in the number of keys N. Therefore, the cost the search cost in a BST is O(${\\log N}$).\n",
    "\n",
    "So, the total cost of a search operation in a TST is the sum of the cost of traversing the trie structure an of traversing the BSTs: O(L + ${\\log N}$ ).\n",
    "\n",
    "#### Unbalanced BSTs <a name=\"Unbalanced_BSTs\"></a>\n",
    "\n",
    "However, if the keys are not randomly inserted, the BSTs in our TST would be unbalanced. For instance, in the case where the keys are inserted in sorted order the TST would degenerate into a linked list and the search cost would become linear in the number of keys, N, time complexity: O(N).\n",
    "\n",
    "Therefore, the time complexity of a search in a TST in that case would be O(L + N).\n",
    "\n",
    "\n",
    "#### Base and Worst Case <a name=\"Base_and_Worst_Case\"></a>\n",
    "\n",
    "In conclusion we can say that we have a best case and worst case scenario when considering the algorithm's time complexity.\n",
    "\n",
    "Best Case: The best case occurs when the TST is perfectly balanced, i.e., the keys are evenly distributed so that each left and right subtree contains roughly the same number of nodes. In this case, the time complexity is O(L), where L is the length of the key. This is because we only need to compare each character in the key once.\n",
    "\n",
    "Worst Case: The worst case occurs when the TST is unbalanced, i.e., all the keys are such that they always go to the left child or the right child, making the TST resemble a linked list. In this case, the time complexity is O(L + N) as searching would require traversing through most or all of the keys (N), plus the comparisons equal to the length of the key (L). That's because we might have to traverse almost all the nodes in the tree to find or insert a key.\n",
    "\n",
    "#### Example\n",
    "\n",
    "As an example we consider a TST with 8 keys, and we're searching for a key of length 3.\n",
    "\n",
    "The cost of traversing the trie structure would be O(3) = 3.\n",
    "\n",
    "The cost of traversing the balanced BSTs representations of each trie node is logarithmic in the number of keys, so it's O(${\\log 8}$) = 3.\n",
    "\n",
    "Therefore, the total cost of the search operation would O(3 + 3) = O(6).\n",
    "\n",
    "On the other hand, the time complexity of traversing unabalanced TST would be O(8) = 8 . \\\n",
    "The total cost of the search of the TST would be O(3 + 8) = O(11) = 11\n",
    "\n",
    "\n",
    "#### Time complexity of a search miss <a name=\"Search_miss\"></a>\n",
    "\n",
    "The cost of a search miss (searching for a key that does not exist) relies on the assumption that most of the nodes in the TST behave like random BSTs ([Sedgewick and Wayne, 2011](#references)). This means that the average path length in these BSTs is ln R, where R is the number of different character values. Therefore the total cost of a search miss is: $$ \\log_R N = \\frac{\\ln N}{\\ln R} \\cdot \\ln R = \\ln N $$\n",
    "\n",
    "#### Time complexity of all_strings() <a name=\"all_strings\"></a>\n",
    "\n",
    "**all_strings()** cost: For retrieving all strings from a TST we would need to visit every node to retrieve all the keys. Therefore the time complexity for this operation would be O(N), where N is the total number of nodes in the TST.\n",
    "\n",
    "Although we previously defined N as the number of keys in the tree, this is not necessarily the same as the number of nodes. Especially if we have a lot of keys with common prefixes. Each key in a TST is represented as a path from the root to a node, and each character in the key corresponds to a node along this path. Therefore, the total number of nodes in the TST can be much larger than the number of keys. So while the time complexity of retrieving all keys is technically O(N), in practice the number of nodes N can be much larger than the number of keys."
   ]
  },
  {
   "cell_type": "markdown",
   "metadata": {},
   "source": [
    "## Implementation <a name=\"Implementation\"></a>\n",
    "\n",
    "Implementation of a TST in Python, using recursion."
   ]
  },
  {
   "cell_type": "code",
   "execution_count": 1,
   "metadata": {
    "ExecuteTime": {
     "end_time": "2023-06-14T17:01:02.751131500Z",
     "start_time": "2023-06-14T17:01:02.656180Z"
    }
   },
   "outputs": [],
   "source": [
    "%load_ext autoreload\n",
    "%autoreload 2"
   ]
  },
  {
   "cell_type": "markdown",
   "metadata": {},
   "source": [
    "### Python class definition for the TST <a name=\"Python_class_definition_for_the_TST\"></a>"
   ]
  },
  {
   "cell_type": "code",
   "execution_count": 2,
   "metadata": {
    "ExecuteTime": {
     "end_time": "2023-06-14T17:01:02.843821500Z",
     "start_time": "2023-06-14T17:01:02.754916300Z"
    }
   },
   "outputs": [],
   "source": [
    "class Node:\n",
    "    \"\"\"\n",
    "    Node class represents a single node in the Ternary Search Tree (TST).\n",
    "    \"\"\"\n",
    "    def __init__(self, char=None, left=None, mid=None, right=None, val=None):\n",
    "        \"\"\"\n",
    "        We Initialize a Node with character, left, middle, right child nodes and a value.\n",
    "        \"\"\"\n",
    "        self.char = char\n",
    "        self.left = left\n",
    "        self.mid = mid\n",
    "        self.right = right\n",
    "        self.val = val\n",
    "\n",
    "class TernarySearchTree:\n",
    "    \"\"\"\n",
    "    TST (Ternary Search Tree) class represents a TST data structure.\n",
    "    \"\"\"\n",
    "    def __init__(self):\n",
    "        \"\"\"\n",
    "        Initialize a TST with a root Node and size.\n",
    "        \"\"\"\n",
    "        self.root = Node()\n",
    "        self.size = 0\n",
    "\n",
    "    def search(self, key, exact=False):\n",
    "        \"\"\"\n",
    "        Search for a key in the TST.\n",
    "        Takes a key (str): The key to search for.\n",
    "        Returns bool: True if the key is found, False otherwise.\n",
    "        \"\"\"\n",
    "        if key == '':\n",
    "            return not exact\n",
    "        else:\n",
    "            node = self._search(self.root.mid, key, 0)\n",
    "            if exact and node is not None:\n",
    "                return node.val is not None\n",
    "            return node is not None\n",
    "\n",
    "    def _search(self, node, key, d):\n",
    "        \"\"\"\n",
    "        Helper method for search. Recursively search for the key in the TST.\n",
    "            node (Node): The current node.\n",
    "            key (str): The key to search for.\n",
    "            d (int): The current depth in the TST.\n",
    "        Return:\n",
    "            Node: The node if the key is found, None otherwise.\n",
    "        \"\"\"\n",
    "        if node is None:\n",
    "            return None\n",
    "        char = key[d]\n",
    "        if char < node.char:\n",
    "            return self._search(node.left, key, d)\n",
    "        elif char > node.char:\n",
    "            return self._search(node.right, key, d)\n",
    "        elif d < len(key) - 1:\n",
    "            return self._search(node.mid, key, d + 1)\n",
    "        else:\n",
    "            return node\n",
    "\n",
    "    def insert(self, key):\n",
    "        \"\"\"\n",
    "        Insert a key into the TST.\n",
    "        \"\"\"\n",
    "        if key == '':\n",
    "            if self.root.val is None:\n",
    "                self.size += 1\n",
    "            self.root.val = True\n",
    "        else:\n",
    "            if not self.search(key):\n",
    "                self.size += 1\n",
    "            self.root.mid = self._insert(self.root.mid, key, 0)\n",
    "\n",
    "    def _insert(self, node, key, d):\n",
    "        \"\"\"\n",
    "        Helper method for insert. Recursively insert the key into the TST.\n",
    "        Takes:\n",
    "            node (Node): The current node.\n",
    "            key (str): The key to insert.\n",
    "            d (int): The current depth in the TST.\n",
    "        Return\"\n",
    "            Node: The inserted node.\n",
    "        \"\"\"\n",
    "        char = key[d]\n",
    "        if node is None:\n",
    "            node = Node(char)\n",
    "        if char < node.char:\n",
    "            node.left = self._insert(node.left, key, d)\n",
    "        elif char > node.char:\n",
    "            node.right = self._insert(node.right, key, d)\n",
    "        elif d < len(key) - 1:\n",
    "            node.mid = self._insert(node.mid, key, d + 1)\n",
    "        else:\n",
    "            node.val = True\n",
    "        return node\n",
    "\n",
    "\n",
    "    def all_strings(self):\n",
    "        \"\"\"\n",
    "        Get all strings in the TST.\n",
    "        Returns list of all strings in the TST.\n",
    "        \"\"\"\n",
    "        return self._all_strings(self.root, \"\")\n",
    "\n",
    "    def _all_strings(self, node, prefix):\n",
    "        \"\"\"\n",
    "        Helper method for all_strings. Recursively get all strings in the TST.\n",
    "        \"\"\"\n",
    "        if node is None:\n",
    "            return []\n",
    "        if node.val is not None:\n",
    "            keys = [prefix + (node.char if node.char is not None else '')]\n",
    "        else:\n",
    "            keys = []\n",
    "        keys += self._all_strings(node.left, prefix)\n",
    "        keys += self._all_strings(node.mid, prefix + (node.char if node.char is not None else ''))\n",
    "        keys += self._all_strings(node.right, prefix)\n",
    "        return keys\n",
    "\n",
    "    def __len__(self):\n",
    "        \"\"\"\n",
    "        Get the number of keys in the TST.\n",
    "        \"\"\"\n",
    "        return len(self.all_strings())\n",
    "\n",
    "    def __repr__(self, node=None, depth=0, edge_label=''):\n",
    "        \"\"\"\n",
    "        Represent the TST as a string.\n",
    "        Indicates whether each node terminates a string.\n",
    "        Indicates whether each node is a left, middle, or right child with proper indentation.\n",
    "        \"\"\"\n",
    "        if node is None:\n",
    "            node = self.root\n",
    "        s = ' ' * depth * 2\n",
    "        s += edge_label\n",
    "        if node.char is not None:\n",
    "            s += 'char: ' + node.char + ', '\n",
    "        s += 'terminates: ' + str(node.val is not None) + '\\n'\n",
    "        if node.left is not None:\n",
    "            s += self.__repr__(node.left, depth + 1, '_lt: ')\n",
    "        if node.mid is not None:\n",
    "            s += self.__repr__(node.mid, depth + 1, '_eq: ')\n",
    "        if node.right is not None:\n",
    "            s += self.__repr__(node.right, depth + 1, '_gt: ')\n",
    "        return s"
   ]
  },
  {
   "cell_type": "markdown",
   "metadata": {},
   "source": [
    "#### Documentation <a name=\"Documentation\"></a>\n",
    "\n",
    "The Node class is a helper class that represents a node in the ternary search tree. Each node contains a character (char), a value (val), and references to three child nodes (left, mid, right).\n",
    "\n",
    "__init__ in Node class: This is the constructor for the Node class. It initializes a new node with the given character (char), left, middle, and right children (left, mid, right), and a value (val). The value is used to mark the end of a string in the TST.\n",
    "\n",
    "The TST class is the main class that represents the ternary search tree. It has a single attribute, root, which is the root node of the tree.\n",
    "\n",
    "__init__ in TST class: This is the constructor for the TST class. It initializes a new TST with a root node and a size of 0.\n",
    "\n",
    "The search method retrieves the value associated with a given key. If the key is an empty string, it checks if the root node has a value (which would indicate that the empty string is a valid string in the TST). Otherwise, it calls the _search helper function to search for the key in the TST.\n",
    "\n",
    "_search: This is a helper function for the search function. It performs a recursive search for the key in the TST. It compares the current character in the key with the character in the current node and decides whether to go left, right, or down the middle based on the comparison.\n",
    "\n",
    "The insert method inserts a key-value pair into the tree.\n",
    "\n",
    "all_strings: This function returns all the strings in the TST. It calls the _all_strings helper function with the root node and an empty prefix.\n",
    "\n",
    "_all_strings: This is a helper function for the all_strings function. It performs a recursive traversal of the TST and collects all the strings. It constructs each string by concatenating the characters along the path from the root to a node with a non-None value.\n",
    "\n",
    "the repr method recursively traverses the TST and for each node, it first traverses the left subtree, then prints the current node's character (indented by the current depth), and finally traverses the mid and right subtrees. This results in a vertical representation of the TST, where each level of depth is represented by an additional level of indentation."
   ]
  },
  {
   "cell_type": "markdown",
   "metadata": {},
   "source": [
    "### Example Usage <a name=\"Example_Usage\"></a>"
   ]
  },
  {
   "cell_type": "markdown",
   "metadata": {},
   "source": [
    "Create a new empty ternery search tree."
   ]
  },
  {
   "cell_type": "code",
   "execution_count": 4,
   "metadata": {
    "ExecuteTime": {
     "end_time": "2023-06-14T11:21:02.925047200Z",
     "start_time": "2023-06-14T11:21:00.800592Z"
    }
   },
   "outputs": [
    {
     "name": "stdout",
     "output_type": "stream",
     "text": [
      "terminates: False\n",
      "  _eq: char: a, terminates: False\n",
      "    _eq: char: b, terminates: False\n",
      "      _eq: char: c, terminates: True\n",
      "\n"
     ]
    }
   ],
   "source": [
    "tst = TernarySearchTree()\n",
    "\n",
    "tst.insert('abc')\n",
    "\n",
    "print(tst)"
   ]
  },
  {
   "cell_type": "code",
   "execution_count": 5,
   "metadata": {
    "ExecuteTime": {
     "end_time": "2023-06-14T11:21:02.955721900Z",
     "start_time": "2023-06-14T11:21:00.848914700Z"
    }
   },
   "outputs": [
    {
     "name": "stdout",
     "output_type": "stream",
     "text": [
      "terminates: False\n",
      "  _eq: char: a, terminates: False\n",
      "    _eq: char: b, terminates: False\n",
      "      _eq: char: c, terminates: True\n",
      "      _gt: char: q, terminates: False\n",
      "        _eq: char: t, terminates: True\n",
      "\n"
     ]
    }
   ],
   "source": [
    "tst.insert('aqt')\n",
    "print(tst)"
   ]
  },
  {
   "cell_type": "code",
   "execution_count": 6,
   "metadata": {
    "ExecuteTime": {
     "end_time": "2023-06-14T11:21:02.988620800Z",
     "start_time": "2023-06-14T11:21:00.910409200Z"
    }
   },
   "outputs": [
    {
     "data": {
      "text/plain": "2"
     },
     "execution_count": 6,
     "metadata": {},
     "output_type": "execute_result"
    }
   ],
   "source": [
    "# testing length\n",
    "\n",
    "len(tst)"
   ]
  },
  {
   "cell_type": "code",
   "execution_count": 7,
   "metadata": {
    "ExecuteTime": {
     "end_time": "2023-06-14T11:21:03.011731100Z",
     "start_time": "2023-06-14T11:21:00.974102800Z"
    }
   },
   "outputs": [
    {
     "data": {
      "text/plain": "['abc', 'aqt']"
     },
     "execution_count": 7,
     "metadata": {},
     "output_type": "execute_result"
    }
   ],
   "source": [
    "#testing all_strings() method\n",
    "\n",
    "tst.all_strings()"
   ]
  },
  {
   "cell_type": "markdown",
   "metadata": {},
   "source": [
    "Search for the string `'ab'`, it should be found since it is a prefix of `'abc'`."
   ]
  },
  {
   "cell_type": "code",
   "execution_count": 8,
   "metadata": {
    "ExecuteTime": {
     "end_time": "2023-06-14T11:21:03.030727Z",
     "start_time": "2023-06-14T11:21:01.036767800Z"
    }
   },
   "outputs": [
    {
     "data": {
      "text/plain": "True"
     },
     "execution_count": 8,
     "metadata": {},
     "output_type": "execute_result"
    }
   ],
   "source": [
    "tst.search('ab')"
   ]
  },
  {
   "cell_type": "markdown",
   "metadata": {},
   "source": [
    "The string `'ac'` should not be found."
   ]
  },
  {
   "cell_type": "code",
   "execution_count": 9,
   "metadata": {
    "ExecuteTime": {
     "end_time": "2023-06-14T11:21:03.062292400Z",
     "start_time": "2023-06-14T11:21:01.099186600Z"
    }
   },
   "outputs": [
    {
     "data": {
      "text/plain": "False"
     },
     "execution_count": 9,
     "metadata": {},
     "output_type": "execute_result"
    }
   ],
   "source": [
    "tst.search('ac')"
   ]
  },
  {
   "cell_type": "markdown",
   "metadata": {},
   "source": [
    "The tree can also contain the empty string."
   ]
  },
  {
   "cell_type": "code",
   "execution_count": 10,
   "metadata": {
    "ExecuteTime": {
     "end_time": "2023-06-14T11:21:03.090610800Z",
     "start_time": "2023-06-14T11:21:01.166707700Z"
    }
   },
   "outputs": [
    {
     "data": {
      "text/plain": "3"
     },
     "execution_count": 10,
     "metadata": {},
     "output_type": "execute_result"
    }
   ],
   "source": [
    "tst.insert('')\n",
    "len(tst)"
   ]
  },
  {
   "cell_type": "code",
   "execution_count": 11,
   "metadata": {
    "ExecuteTime": {
     "end_time": "2023-06-14T11:21:03.097328400Z",
     "start_time": "2023-06-14T11:21:01.225494300Z"
    }
   },
   "outputs": [
    {
     "name": "stdout",
     "output_type": "stream",
     "text": [
      "terminates: True\n",
      "  _eq: char: a, terminates: False\n",
      "    _eq: char: b, terminates: False\n",
      "      _eq: char: c, terminates: True\n",
      "      _gt: char: q, terminates: False\n",
      "        _eq: char: t, terminates: True\n",
      "\n"
     ]
    }
   ],
   "source": [
    "print(tst)"
   ]
  },
  {
   "cell_type": "code",
   "execution_count": 12,
   "metadata": {
    "ExecuteTime": {
     "end_time": "2023-06-14T11:21:03.125363200Z",
     "start_time": "2023-06-14T11:21:01.285989900Z"
    }
   },
   "outputs": [
    {
     "data": {
      "text/plain": "['', 'abc', 'aqt']"
     },
     "execution_count": 12,
     "metadata": {},
     "output_type": "execute_result"
    }
   ],
   "source": [
    "tst.all_strings()"
   ]
  },
  {
   "cell_type": "markdown",
   "metadata": {},
   "source": [
    "## Testing <a name=\"Testing\"></a>\n",
    "\n",
    "The file `data/search_trees/insert_words.txt` contains words that we can insert into a tree."
   ]
  },
  {
   "cell_type": "code",
   "execution_count": 13,
   "metadata": {
    "ExecuteTime": {
     "end_time": "2023-06-14T11:21:03.153266600Z",
     "start_time": "2023-06-14T11:21:01.350383600Z"
    }
   },
   "outputs": [],
   "source": [
    "tst = TernarySearchTree()\n",
    "with open('data/search_trees/insert_words.txt') as file:\n",
    "    words = [\n",
    "        line.strip() for line in file\n",
    "    ]\n",
    "for word in words:\n",
    "    tst.insert(word)\n",
    "unique_words = set(words)"
   ]
  },
  {
   "cell_type": "markdown",
   "metadata": {},
   "source": [
    "Verify the length of the data stucture."
   ]
  },
  {
   "cell_type": "code",
   "execution_count": 14,
   "metadata": {
    "ExecuteTime": {
     "end_time": "2023-06-14T11:21:03.186412700Z",
     "start_time": "2023-06-14T11:21:01.410280100Z"
    }
   },
   "outputs": [],
   "source": [
    "assert len(tst) == len(unique_words), \\\n",
    "    f'{len(tst)} in tree, expected {len(unique_words)}'"
   ]
  },
  {
   "cell_type": "markdown",
   "metadata": {},
   "source": [
    "Verify that all words that were inserted can be found."
   ]
  },
  {
   "cell_type": "code",
   "execution_count": 15,
   "metadata": {
    "ExecuteTime": {
     "end_time": "2023-06-14T11:21:03.192284700Z",
     "start_time": "2023-06-14T11:21:01.477426700Z"
    }
   },
   "outputs": [],
   "source": [
    "for word in unique_words:\n",
    "    assert tst.search(word), f'{word} not found'"
   ]
  },
  {
   "cell_type": "markdown",
   "metadata": {},
   "source": [
    "Verify that all prefixes can be found."
   ]
  },
  {
   "cell_type": "code",
   "execution_count": 16,
   "metadata": {
    "ExecuteTime": {
     "end_time": "2023-06-14T11:21:03.233358500Z",
     "start_time": "2023-06-14T11:21:01.536671300Z"
    }
   },
   "outputs": [],
   "source": [
    "for word in unique_words:\n",
    "    for i in range(len(word) - 1, 0, -1):\n",
    "        prefix = word[:i]\n",
    "        assert tst.search(prefix), f'{prefix} not found'"
   ]
  },
  {
   "cell_type": "markdown",
   "metadata": {},
   "source": [
    "Check that when searching for a exact match, only the inserted words are found, and no prefixes."
   ]
  },
  {
   "cell_type": "code",
   "execution_count": 17,
   "metadata": {
    "ExecuteTime": {
     "end_time": "2023-06-14T11:21:03.382755Z",
     "start_time": "2023-06-14T11:21:01.601446400Z"
    }
   },
   "outputs": [],
   "source": [
    "for word in unique_words:\n",
    "    for i in range(len(word), 0, -1):\n",
    "        prefix = word[:i]\n",
    "        if prefix not in unique_words:\n",
    "            assert not tst.search(prefix, exact=True), \\\n",
    "                f'{prefix} found'"
   ]
  },
  {
   "cell_type": "markdown",
   "metadata": {},
   "source": [
    "Check that the empty string is in the tree (since it is a prefix of any string)."
   ]
  },
  {
   "cell_type": "code",
   "execution_count": 18,
   "metadata": {
    "ExecuteTime": {
     "end_time": "2023-06-14T11:21:03.386122200Z",
     "start_time": "2023-06-14T11:21:01.660317800Z"
    }
   },
   "outputs": [],
   "source": [
    "assert tst.search(''), 'empty string not found'"
   ]
  },
  {
   "cell_type": "markdown",
   "metadata": {},
   "source": [
    "Check that the empty string is not in the tree for an exact search."
   ]
  },
  {
   "cell_type": "code",
   "execution_count": 19,
   "metadata": {
    "ExecuteTime": {
     "end_time": "2023-06-14T11:21:03.386879700Z",
     "start_time": "2023-06-14T11:21:01.723417Z"
    }
   },
   "outputs": [],
   "source": [
    "assert not tst.search('', exact=True), 'empty string found'"
   ]
  },
  {
   "cell_type": "markdown",
   "metadata": {},
   "source": [
    "Check that words in the file data/search_trees/not_insert_words.txt can not be found in the tree."
   ]
  },
  {
   "cell_type": "code",
   "execution_count": 20,
   "metadata": {
    "ExecuteTime": {
     "end_time": "2023-06-14T11:21:03.387488Z",
     "start_time": "2023-06-14T11:21:01.790570Z"
    }
   },
   "outputs": [],
   "source": [
    "with open('data/search_trees/not_insert_words.txt') as file:\n",
    "    for line in file:\n",
    "        word = line.strip()\n",
    "        assert not tst.search(word), f'{word} should not be found'"
   ]
  },
  {
   "cell_type": "markdown",
   "metadata": {},
   "source": [
    "Check that all strings are returned."
   ]
  },
  {
   "cell_type": "code",
   "execution_count": 21,
   "metadata": {
    "ExecuteTime": {
     "end_time": "2023-06-14T11:21:03.387488Z",
     "start_time": "2023-06-14T11:21:01.848179100Z"
    }
   },
   "outputs": [],
   "source": [
    "all_strings = tst.all_strings()\n",
    "assert len(all_strings) == len(unique_words), \\\n",
    "    f'{len(all_strings)} words, expected {len(unique_words)}'\n",
    "assert sorted(all_strings) == sorted(unique_words), 'words do not match'"
   ]
  },
  {
   "cell_type": "code",
   "execution_count": 21,
   "metadata": {
    "ExecuteTime": {
     "end_time": "2023-06-14T11:21:03.387488Z",
     "start_time": "2023-06-14T11:21:01.912901200Z"
    }
   },
   "outputs": [],
   "source": []
  },
  {
   "cell_type": "markdown",
   "metadata": {},
   "source": [
    "## Performance <a name=\"Discussion\"></a>"
   ]
  },
  {
   "cell_type": "markdown",
   "source": [
    "In order to benchmark the scaling behaviour of inserting and searching operations of our Ternary Search Tree, we will make use of several different dataset and test the following cases.\n",
    "\n",
    "- unsorted Dataset of 50.000 words of varying length\n",
    "- unsorted Dataset of 5.000.000 words of length 5\n",
    "- sorted Dataset of 50.000 words of varying length\n",
    "- sorted Dataset of 5.000.000 words of length 5\n",
    "\n",
    "As discussed in the complexity analysis, the expected time complexity for an unsorted dataset where words are randomly inserted is O(logn) for both insertion and search. For a sorted dataset, the expected time complexity for insertion is O(N). We will test these cases and compare the results to the expected time complexity."
   ],
   "metadata": {
    "collapsed": false
   }
  },
  {
   "cell_type": "code",
   "execution_count": null,
   "outputs": [],
   "source": [],
   "metadata": {
    "collapsed": false
   }
  },
  {
   "cell_type": "code",
   "execution_count": 22,
   "metadata": {
    "ExecuteTime": {
     "end_time": "2023-06-14T11:21:03.388491400Z",
     "start_time": "2023-06-14T11:21:01.927290300Z"
    }
   },
   "outputs": [],
   "source": [
    "with open('data/search_trees/corncob_lowercase.txt') as f:\n",
    "    words = f.read().splitlines()"
   ]
  },
  {
   "cell_type": "code",
   "execution_count": 23,
   "metadata": {
    "ExecuteTime": {
     "end_time": "2023-06-14T11:21:03.389488700Z",
     "start_time": "2023-06-14T11:21:01.990154400Z"
    }
   },
   "outputs": [
    {
     "data": {
      "text/plain": "58110"
     },
     "execution_count": 23,
     "metadata": {},
     "output_type": "execute_result"
    }
   ],
   "source": [
    "len(words)"
   ]
  },
  {
   "cell_type": "code",
   "execution_count": 28,
   "metadata": {
    "ExecuteTime": {
     "end_time": "2023-06-14T12:19:05.532138Z",
     "start_time": "2023-06-14T11:46:20.276327100Z"
    }
   },
   "outputs": [
    {
     "name": "stdout",
     "output_type": "stream",
     "text": [
      "{100: 0.842272, 500: 5.1574125, 1000: 14.166944, 2000: 44.953935, 5000: 167.5865655, 7000: 243.0849945, 10000: 347.6948255, 15000: 298.0655415, 20000: 508.3907515, 25000: 822.6076275, 30000: 838.3039545, 35000: 1127.677712, 40000: 1352.9273415, 45000: 1072.7786, 50000: 1803.445221}\n"
     ]
    },
    {
     "data": {
      "text/plain": "<Figure size 640x480 with 1 Axes>",
      "image/png": "[encoded data removed]"
     },
     "metadata": {},
     "output_type": "display_data"
    }
   ],
   "source": [
    "import time\n",
    "import random\n",
    "\n",
    "sizes = [100, 500, 1000, 2000, 5000, 7000, 10000, 15000, 20000, 25000, 30000, 35000, 40000, 45000, 50000]\n",
    "samples = [\n",
    "    random.sample(words, k=size) for size in sizes\n",
    "]\n",
    "for sample in samples:\n",
    "    tst = TernarySearchTree()\n",
    "sample = random.sample(words, k=100)\n",
    "tst = TernarySearchTree()\n",
    "for word in sample:\n",
    "    tst.insert(word)\n",
    "\n",
    "\n",
    "nr_samples = 20  # number of random samples to test for each sample size\n",
    "nr_runs = 10  # number of runs for each sample\n",
    "times = {}\n",
    "\n",
    "for size in sizes:\n",
    "    times[size] = 0.0\n",
    "    for _ in range(nr_samples):\n",
    "        sample = random.sample(words, k=size)\n",
    "        tst = TernarySearchTree()\n",
    "        for word in sample:\n",
    "            tst.insert(word)\n",
    "        for _ in range(nr_runs):\n",
    "            start_time = time.time_ns()\n",
    "            for word in sample:\n",
    "                tst.insert(word)\n",
    "            end_time = time.time_ns()\n",
    "            times[size] += end_time - start_time\n",
    "    times[size] /= nr_runs * nr_samples * 1_000_000.0\n",
    "\n",
    "print(times)\n",
    "\n",
    "import matplotlib.pyplot as plt\n",
    "plt.plot(times.keys(), times.values());"
   ]
  },
  {
   "cell_type": "code",
   "execution_count": 30,
   "metadata": {
    "ExecuteTime": {
     "end_time": "2023-06-14T12:57:52.267481800Z",
     "start_time": "2023-06-14T12:55:53.873788200Z"
    }
   },
   "outputs": [
    {
     "name": "stdout",
     "output_type": "stream",
     "text": [
      "Insertion times: {100: 1.056485, 500: 8.115725, 1000: 30.46599, 5000: 82.109535, 10000: 167.87111, 20000: 433.491955, 30000: 864.8803, 40000: 1221.643525, 50000: 1362.966885}\n",
      "Search times: {100: 0.40196, 500: 2.205385, 1000: 5.832765, 5000: 25.806005, 10000: 53.83384, 20000: 151.82146, 30000: 325.30665, 40000: 437.3636, 50000: 507.01167}\n"
     ]
    },
    {
     "data": {
      "text/plain": "<Figure size 1000x600 with 1 Axes>",
      "image/png": "[encoded data removed]"
     },
     "metadata": {},
     "output_type": "display_data"
    }
   ],
   "source": [
    "import time\n",
    "import random\n",
    "import matplotlib.pyplot as plt\n",
    "\n",
    "# assume 'words' and 'TernarySearchTree' are already defined\n",
    "sizes = [100, 500, 1000, 5000, 10000, 20000, 30000, 40000, 50000]\n",
    "nr_samples = 20  # number of random samples to test for each sample size\n",
    "nr_runs = 10  # number of runs for each sample\n",
    "\n",
    "times_insert = {}\n",
    "times_search = {}\n",
    "\n",
    "for size in sizes:\n",
    "    times_insert[size] = 0.0\n",
    "    times_search[size] = 0.0\n",
    "    for _ in range(nr_samples):\n",
    "        sample = random.sample(words, k=size)\n",
    "        tst = TernarySearchTree()\n",
    "\n",
    "        # measure insertion time\n",
    "        start_time = time.time_ns()\n",
    "        for word in sample:\n",
    "            tst.insert(word)\n",
    "        end_time = time.time_ns()\n",
    "        times_insert[size] += end_time - start_time\n",
    "\n",
    "        # measure search time\n",
    "        start_time = time.time_ns()\n",
    "        for word in sample:\n",
    "            tst.search(word)\n",
    "        end_time = time.time_ns()\n",
    "        times_search[size] += end_time - start_time\n",
    "\n",
    "    times_insert[size] /= nr_samples * 1_000_000.0\n",
    "    times_search[size] /= nr_samples * 1_000_000.0\n",
    "\n",
    "# print times\n",
    "print(\"Insertion times:\", times_insert)\n",
    "print(\"Search times:\", times_search)\n",
    "\n",
    "# plot times\n",
    "plt.figure(figsize=(10,6))\n",
    "plt.plot(times_insert.keys(), times_insert.values(), label='Insertion Time')\n",
    "plt.plot(times_search.keys(), times_search.values(), label='Search Time')\n",
    "plt.xlabel('Sample Size')\n",
    "plt.ylabel('Time (milliseconds)')\n",
    "plt.title('Time Complexity of Insert and Search Operations in TST')\n",
    "plt.legend()\n",
    "plt.show()"
   ]
  },
  {
   "cell_type": "code",
   "execution_count": 31,
   "metadata": {
    "ExecuteTime": {
     "end_time": "2023-06-14T13:00:35.961944800Z",
     "start_time": "2023-06-14T13:00:35.775567300Z"
    }
   },
   "outputs": [
    {
     "name": "stdout",
     "output_type": "stream",
     "text": [
      "O(N): Time = 0.028967793244854385 * Size + -40.41721246046635\n",
      "O(L + logN): Time = 199.79066803608129 * (Size * log(Size)) + -1247.560714784371\n"
     ]
    },
    {
     "data": {
      "text/plain": "<Figure size 640x480 with 1 Axes>",
      "image/png": "[encoded data removed]"
     },
     "metadata": {},
     "output_type": "display_data"
    }
   ],
   "source": [
    "import numpy as np\n",
    "import matplotlib.pyplot as plt\n",
    "\n",
    "# Your list of sample sizes and times\n",
    "sizes = [100, 500, 1000, 2000, 5000, 7000, 10000, 15000, 20000, 25000, 30000, 35000, 40000, 45000, 50000]\n",
    "times = [1.135782, 6.147549, 14.506418, 120.029209, 306.051674, 328.940101, 461.293701, 640.49909, 1016.04186]\n",
    "\n",
    "# list the sizes and times from the dictionaries times_insert and times_search\n",
    "sizes = list(times_insert.keys())\n",
    "times = list(times_insert.values())\n",
    "\n",
    "\n",
    "# Convert lists to numpy arrays\n",
    "sizes = np.array(sizes)\n",
    "times = np.array(times)\n",
    "\n",
    "\n",
    "coefficients_L = np.polyfit(sizes, times, 1)\n",
    "slope_L, intercept_L = coefficients_L\n",
    "print(f\"O(N): Time = {slope_L} * Size + {intercept_L}\")\n",
    "\n",
    "\n",
    "sizes_log = np.log(sizes)\n",
    "coefficients_log = np.polyfit(sizes_log, times, 1)\n",
    "slope_log, intercept_log = coefficients_log\n",
    "print(f\"O(L + logN): Time = {slope_log} * (Size * log(Size)) + {intercept_log}\")\n",
    "\n",
    "\n",
    "# Plot the original data and the fitted lines\n",
    "plt.scatter(sizes, times, color='blue', label='Data')  # original data\n",
    "plt.plot(sizes, slope_L * sizes + intercept_L, color='red', label='O(N)')\n",
    "plt.plot(sizes, slope_log * sizes_log + intercept_log, color='green', label='O(logN)')\n",
    "plt.xlabel('Size')\n",
    "plt.ylabel('Time')\n",
    "plt.legend()\n",
    "plt.show()\n"
   ]
  },
  {
   "cell_type": "code",
   "execution_count": null,
   "outputs": [],
   "source": [],
   "metadata": {
    "collapsed": false
   }
  },
  {
   "cell_type": "code",
   "execution_count": null,
   "outputs": [],
   "source": [],
   "metadata": {
    "collapsed": false
   }
  },
  {
   "cell_type": "markdown",
   "source": [
    "## Generating a large dataset for Benchmarking\n",
    "\n",
    "Although we observed previously a linear relationship between size and time, therefore a time complexity O(N), the dataset might be too small to observe the expected time complexity that we know should be logarithmic. The logarithmic effect becomes more noticeable as the size of the dataset increases since logarithmic growth is slower than linear growth, and the difference becomes more pronounced with larger inputs.\n",
    "\n",
    "For that purpose, we will generate a larger dataset of 5.000.000 words of length 4, and we will measure the time it takes to insert and search for a word in the dataset. We will use the same approach as before, but this time we will use the `random.choices` function to generate a random word of length 4.."
   ],
   "metadata": {
    "collapsed": false
   }
  },
  {
   "cell_type": "code",
   "execution_count": 36,
   "outputs": [],
   "source": [
    "import string\n",
    "\n",
    "words_larger = [''.join(random.choices(string.ascii_lowercase, k=5)) for _ in range(2000000)]"
   ],
   "metadata": {
    "collapsed": false,
    "ExecuteTime": {
     "end_time": "2023-06-14T13:50:58.743019600Z",
     "start_time": "2023-06-14T13:50:50.227043600Z"
    }
   }
  },
  {
   "cell_type": "code",
   "execution_count": 37,
   "outputs": [
    {
     "data": {
      "text/plain": "5000000"
     },
     "execution_count": 37,
     "metadata": {},
     "output_type": "execute_result"
    }
   ],
   "source": [
    "len(words_larger)"
   ],
   "metadata": {
    "collapsed": false,
    "ExecuteTime": {
     "end_time": "2023-06-14T13:50:58.804076600Z",
     "start_time": "2023-06-14T13:50:58.744925500Z"
    }
   }
  },
  {
   "cell_type": "code",
   "execution_count": 38,
   "outputs": [
    {
     "ename": "KeyboardInterrupt",
     "evalue": "",
     "output_type": "error",
     "traceback": [
      "\u001B[1;31m---------------------------------------------------------------------------\u001B[0m",
      "\u001B[1;31mKeyboardInterrupt\u001B[0m                         Traceback (most recent call last)",
      "Cell \u001B[1;32mIn[38], line 29\u001B[0m\n\u001B[0;32m     27\u001B[0m start_time \u001B[38;5;241m=\u001B[39m time\u001B[38;5;241m.\u001B[39mtime_ns()\n\u001B[0;32m     28\u001B[0m \u001B[38;5;28;01mfor\u001B[39;00m word \u001B[38;5;129;01min\u001B[39;00m sample:\n\u001B[1;32m---> 29\u001B[0m     \u001B[43mtst\u001B[49m\u001B[38;5;241;43m.\u001B[39;49m\u001B[43msearch\u001B[49m\u001B[43m(\u001B[49m\u001B[43mword\u001B[49m\u001B[43m)\u001B[49m\n\u001B[0;32m     30\u001B[0m end_time \u001B[38;5;241m=\u001B[39m time\u001B[38;5;241m.\u001B[39mtime_ns()\n\u001B[0;32m     31\u001B[0m times_search[size] \u001B[38;5;241m+\u001B[39m\u001B[38;5;241m=\u001B[39m end_time \u001B[38;5;241m-\u001B[39m start_time\n",
      "Cell \u001B[1;32mIn[3], line 35\u001B[0m, in \u001B[0;36mTernarySearchTree.search\u001B[1;34m(self, key, exact)\u001B[0m\n\u001B[0;32m     33\u001B[0m     \u001B[38;5;28;01mreturn\u001B[39;00m \u001B[38;5;129;01mnot\u001B[39;00m exact\n\u001B[0;32m     34\u001B[0m \u001B[38;5;28;01melse\u001B[39;00m:\n\u001B[1;32m---> 35\u001B[0m     node \u001B[38;5;241m=\u001B[39m \u001B[38;5;28;43mself\u001B[39;49m\u001B[38;5;241;43m.\u001B[39;49m\u001B[43m_search\u001B[49m\u001B[43m(\u001B[49m\u001B[38;5;28;43mself\u001B[39;49m\u001B[38;5;241;43m.\u001B[39;49m\u001B[43mroot\u001B[49m\u001B[38;5;241;43m.\u001B[39;49m\u001B[43mmid\u001B[49m\u001B[43m,\u001B[49m\u001B[43m \u001B[49m\u001B[43mkey\u001B[49m\u001B[43m,\u001B[49m\u001B[43m \u001B[49m\u001B[38;5;241;43m0\u001B[39;49m\u001B[43m)\u001B[49m\n\u001B[0;32m     36\u001B[0m     \u001B[38;5;28;01mif\u001B[39;00m exact \u001B[38;5;129;01mand\u001B[39;00m node \u001B[38;5;129;01mis\u001B[39;00m \u001B[38;5;129;01mnot\u001B[39;00m \u001B[38;5;28;01mNone\u001B[39;00m:\n\u001B[0;32m     37\u001B[0m         \u001B[38;5;28;01mreturn\u001B[39;00m node\u001B[38;5;241m.\u001B[39mval \u001B[38;5;129;01mis\u001B[39;00m \u001B[38;5;129;01mnot\u001B[39;00m \u001B[38;5;28;01mNone\u001B[39;00m\n",
      "Cell \u001B[1;32mIn[3], line 55\u001B[0m, in \u001B[0;36mTernarySearchTree._search\u001B[1;34m(self, node, key, d)\u001B[0m\n\u001B[0;32m     53\u001B[0m     \u001B[38;5;28;01mreturn\u001B[39;00m \u001B[38;5;28mself\u001B[39m\u001B[38;5;241m.\u001B[39m_search(node\u001B[38;5;241m.\u001B[39mleft, key, d)\n\u001B[0;32m     54\u001B[0m \u001B[38;5;28;01melif\u001B[39;00m char \u001B[38;5;241m>\u001B[39m node\u001B[38;5;241m.\u001B[39mchar:\n\u001B[1;32m---> 55\u001B[0m     \u001B[38;5;28;01mreturn\u001B[39;00m \u001B[38;5;28;43mself\u001B[39;49m\u001B[38;5;241;43m.\u001B[39;49m\u001B[43m_search\u001B[49m\u001B[43m(\u001B[49m\u001B[43mnode\u001B[49m\u001B[38;5;241;43m.\u001B[39;49m\u001B[43mright\u001B[49m\u001B[43m,\u001B[49m\u001B[43m \u001B[49m\u001B[43mkey\u001B[49m\u001B[43m,\u001B[49m\u001B[43m \u001B[49m\u001B[43md\u001B[49m\u001B[43m)\u001B[49m\n\u001B[0;32m     56\u001B[0m \u001B[38;5;28;01melif\u001B[39;00m d \u001B[38;5;241m<\u001B[39m \u001B[38;5;28mlen\u001B[39m(key) \u001B[38;5;241m-\u001B[39m \u001B[38;5;241m1\u001B[39m:\n\u001B[0;32m     57\u001B[0m     \u001B[38;5;28;01mreturn\u001B[39;00m \u001B[38;5;28mself\u001B[39m\u001B[38;5;241m.\u001B[39m_search(node\u001B[38;5;241m.\u001B[39mmid, key, d \u001B[38;5;241m+\u001B[39m \u001B[38;5;241m1\u001B[39m)\n",
      "Cell \u001B[1;32mIn[3], line 53\u001B[0m, in \u001B[0;36mTernarySearchTree._search\u001B[1;34m(self, node, key, d)\u001B[0m\n\u001B[0;32m     51\u001B[0m char \u001B[38;5;241m=\u001B[39m key[d]\n\u001B[0;32m     52\u001B[0m \u001B[38;5;28;01mif\u001B[39;00m char \u001B[38;5;241m<\u001B[39m node\u001B[38;5;241m.\u001B[39mchar:\n\u001B[1;32m---> 53\u001B[0m     \u001B[38;5;28;01mreturn\u001B[39;00m \u001B[38;5;28;43mself\u001B[39;49m\u001B[38;5;241;43m.\u001B[39;49m\u001B[43m_search\u001B[49m\u001B[43m(\u001B[49m\u001B[43mnode\u001B[49m\u001B[38;5;241;43m.\u001B[39;49m\u001B[43mleft\u001B[49m\u001B[43m,\u001B[49m\u001B[43m \u001B[49m\u001B[43mkey\u001B[49m\u001B[43m,\u001B[49m\u001B[43m \u001B[49m\u001B[43md\u001B[49m\u001B[43m)\u001B[49m\n\u001B[0;32m     54\u001B[0m \u001B[38;5;28;01melif\u001B[39;00m char \u001B[38;5;241m>\u001B[39m node\u001B[38;5;241m.\u001B[39mchar:\n\u001B[0;32m     55\u001B[0m     \u001B[38;5;28;01mreturn\u001B[39;00m \u001B[38;5;28mself\u001B[39m\u001B[38;5;241m.\u001B[39m_search(node\u001B[38;5;241m.\u001B[39mright, key, d)\n",
      "Cell \u001B[1;32mIn[3], line 53\u001B[0m, in \u001B[0;36mTernarySearchTree._search\u001B[1;34m(self, node, key, d)\u001B[0m\n\u001B[0;32m     51\u001B[0m char \u001B[38;5;241m=\u001B[39m key[d]\n\u001B[0;32m     52\u001B[0m \u001B[38;5;28;01mif\u001B[39;00m char \u001B[38;5;241m<\u001B[39m node\u001B[38;5;241m.\u001B[39mchar:\n\u001B[1;32m---> 53\u001B[0m     \u001B[38;5;28;01mreturn\u001B[39;00m \u001B[38;5;28;43mself\u001B[39;49m\u001B[38;5;241;43m.\u001B[39;49m\u001B[43m_search\u001B[49m\u001B[43m(\u001B[49m\u001B[43mnode\u001B[49m\u001B[38;5;241;43m.\u001B[39;49m\u001B[43mleft\u001B[49m\u001B[43m,\u001B[49m\u001B[43m \u001B[49m\u001B[43mkey\u001B[49m\u001B[43m,\u001B[49m\u001B[43m \u001B[49m\u001B[43md\u001B[49m\u001B[43m)\u001B[49m\n\u001B[0;32m     54\u001B[0m \u001B[38;5;28;01melif\u001B[39;00m char \u001B[38;5;241m>\u001B[39m node\u001B[38;5;241m.\u001B[39mchar:\n\u001B[0;32m     55\u001B[0m     \u001B[38;5;28;01mreturn\u001B[39;00m \u001B[38;5;28mself\u001B[39m\u001B[38;5;241m.\u001B[39m_search(node\u001B[38;5;241m.\u001B[39mright, key, d)\n",
      "Cell \u001B[1;32mIn[3], line 57\u001B[0m, in \u001B[0;36mTernarySearchTree._search\u001B[1;34m(self, node, key, d)\u001B[0m\n\u001B[0;32m     55\u001B[0m     \u001B[38;5;28;01mreturn\u001B[39;00m \u001B[38;5;28mself\u001B[39m\u001B[38;5;241m.\u001B[39m_search(node\u001B[38;5;241m.\u001B[39mright, key, d)\n\u001B[0;32m     56\u001B[0m \u001B[38;5;28;01melif\u001B[39;00m d \u001B[38;5;241m<\u001B[39m \u001B[38;5;28mlen\u001B[39m(key) \u001B[38;5;241m-\u001B[39m \u001B[38;5;241m1\u001B[39m:\n\u001B[1;32m---> 57\u001B[0m     \u001B[38;5;28;01mreturn\u001B[39;00m \u001B[38;5;28;43mself\u001B[39;49m\u001B[38;5;241;43m.\u001B[39;49m\u001B[43m_search\u001B[49m\u001B[43m(\u001B[49m\u001B[43mnode\u001B[49m\u001B[38;5;241;43m.\u001B[39;49m\u001B[43mmid\u001B[49m\u001B[43m,\u001B[49m\u001B[43m \u001B[49m\u001B[43mkey\u001B[49m\u001B[43m,\u001B[49m\u001B[43m \u001B[49m\u001B[43md\u001B[49m\u001B[43m \u001B[49m\u001B[38;5;241;43m+\u001B[39;49m\u001B[43m \u001B[49m\u001B[38;5;241;43m1\u001B[39;49m\u001B[43m)\u001B[49m\n\u001B[0;32m     58\u001B[0m \u001B[38;5;28;01melse\u001B[39;00m:\n\u001B[0;32m     59\u001B[0m     \u001B[38;5;28;01mreturn\u001B[39;00m node\n",
      "Cell \u001B[1;32mIn[3], line 55\u001B[0m, in \u001B[0;36mTernarySearchTree._search\u001B[1;34m(self, node, key, d)\u001B[0m\n\u001B[0;32m     53\u001B[0m     \u001B[38;5;28;01mreturn\u001B[39;00m \u001B[38;5;28mself\u001B[39m\u001B[38;5;241m.\u001B[39m_search(node\u001B[38;5;241m.\u001B[39mleft, key, d)\n\u001B[0;32m     54\u001B[0m \u001B[38;5;28;01melif\u001B[39;00m char \u001B[38;5;241m>\u001B[39m node\u001B[38;5;241m.\u001B[39mchar:\n\u001B[1;32m---> 55\u001B[0m     \u001B[38;5;28;01mreturn\u001B[39;00m \u001B[38;5;28;43mself\u001B[39;49m\u001B[38;5;241;43m.\u001B[39;49m\u001B[43m_search\u001B[49m\u001B[43m(\u001B[49m\u001B[43mnode\u001B[49m\u001B[38;5;241;43m.\u001B[39;49m\u001B[43mright\u001B[49m\u001B[43m,\u001B[49m\u001B[43m \u001B[49m\u001B[43mkey\u001B[49m\u001B[43m,\u001B[49m\u001B[43m \u001B[49m\u001B[43md\u001B[49m\u001B[43m)\u001B[49m\n\u001B[0;32m     56\u001B[0m \u001B[38;5;28;01melif\u001B[39;00m d \u001B[38;5;241m<\u001B[39m \u001B[38;5;28mlen\u001B[39m(key) \u001B[38;5;241m-\u001B[39m \u001B[38;5;241m1\u001B[39m:\n\u001B[0;32m     57\u001B[0m     \u001B[38;5;28;01mreturn\u001B[39;00m \u001B[38;5;28mself\u001B[39m\u001B[38;5;241m.\u001B[39m_search(node\u001B[38;5;241m.\u001B[39mmid, key, d \u001B[38;5;241m+\u001B[39m \u001B[38;5;241m1\u001B[39m)\n",
      "Cell \u001B[1;32mIn[3], line 57\u001B[0m, in \u001B[0;36mTernarySearchTree._search\u001B[1;34m(self, node, key, d)\u001B[0m\n\u001B[0;32m     55\u001B[0m     \u001B[38;5;28;01mreturn\u001B[39;00m \u001B[38;5;28mself\u001B[39m\u001B[38;5;241m.\u001B[39m_search(node\u001B[38;5;241m.\u001B[39mright, key, d)\n\u001B[0;32m     56\u001B[0m \u001B[38;5;28;01melif\u001B[39;00m d \u001B[38;5;241m<\u001B[39m \u001B[38;5;28mlen\u001B[39m(key) \u001B[38;5;241m-\u001B[39m \u001B[38;5;241m1\u001B[39m:\n\u001B[1;32m---> 57\u001B[0m     \u001B[38;5;28;01mreturn\u001B[39;00m \u001B[38;5;28;43mself\u001B[39;49m\u001B[38;5;241;43m.\u001B[39;49m\u001B[43m_search\u001B[49m\u001B[43m(\u001B[49m\u001B[43mnode\u001B[49m\u001B[38;5;241;43m.\u001B[39;49m\u001B[43mmid\u001B[49m\u001B[43m,\u001B[49m\u001B[43m \u001B[49m\u001B[43mkey\u001B[49m\u001B[43m,\u001B[49m\u001B[43m \u001B[49m\u001B[43md\u001B[49m\u001B[43m \u001B[49m\u001B[38;5;241;43m+\u001B[39;49m\u001B[43m \u001B[49m\u001B[38;5;241;43m1\u001B[39;49m\u001B[43m)\u001B[49m\n\u001B[0;32m     58\u001B[0m \u001B[38;5;28;01melse\u001B[39;00m:\n\u001B[0;32m     59\u001B[0m     \u001B[38;5;28;01mreturn\u001B[39;00m node\n",
      "    \u001B[1;31m[... skipping similar frames: TernarySearchTree._search at line 55 (3 times), TernarySearchTree._search at line 53 (2 times), TernarySearchTree._search at line 57 (1 times)]\u001B[0m\n",
      "Cell \u001B[1;32mIn[3], line 57\u001B[0m, in \u001B[0;36mTernarySearchTree._search\u001B[1;34m(self, node, key, d)\u001B[0m\n\u001B[0;32m     55\u001B[0m     \u001B[38;5;28;01mreturn\u001B[39;00m \u001B[38;5;28mself\u001B[39m\u001B[38;5;241m.\u001B[39m_search(node\u001B[38;5;241m.\u001B[39mright, key, d)\n\u001B[0;32m     56\u001B[0m \u001B[38;5;28;01melif\u001B[39;00m d \u001B[38;5;241m<\u001B[39m \u001B[38;5;28mlen\u001B[39m(key) \u001B[38;5;241m-\u001B[39m \u001B[38;5;241m1\u001B[39m:\n\u001B[1;32m---> 57\u001B[0m     \u001B[38;5;28;01mreturn\u001B[39;00m \u001B[38;5;28;43mself\u001B[39;49m\u001B[38;5;241;43m.\u001B[39;49m\u001B[43m_search\u001B[49m\u001B[43m(\u001B[49m\u001B[43mnode\u001B[49m\u001B[38;5;241;43m.\u001B[39;49m\u001B[43mmid\u001B[49m\u001B[43m,\u001B[49m\u001B[43m \u001B[49m\u001B[43mkey\u001B[49m\u001B[43m,\u001B[49m\u001B[43m \u001B[49m\u001B[43md\u001B[49m\u001B[43m \u001B[49m\u001B[38;5;241;43m+\u001B[39;49m\u001B[43m \u001B[49m\u001B[38;5;241;43m1\u001B[39;49m\u001B[43m)\u001B[49m\n\u001B[0;32m     58\u001B[0m \u001B[38;5;28;01melse\u001B[39;00m:\n\u001B[0;32m     59\u001B[0m     \u001B[38;5;28;01mreturn\u001B[39;00m node\n",
      "Cell \u001B[1;32mIn[3], line 55\u001B[0m, in \u001B[0;36mTernarySearchTree._search\u001B[1;34m(self, node, key, d)\u001B[0m\n\u001B[0;32m     53\u001B[0m     \u001B[38;5;28;01mreturn\u001B[39;00m \u001B[38;5;28mself\u001B[39m\u001B[38;5;241m.\u001B[39m_search(node\u001B[38;5;241m.\u001B[39mleft, key, d)\n\u001B[0;32m     54\u001B[0m \u001B[38;5;28;01melif\u001B[39;00m char \u001B[38;5;241m>\u001B[39m node\u001B[38;5;241m.\u001B[39mchar:\n\u001B[1;32m---> 55\u001B[0m     \u001B[38;5;28;01mreturn\u001B[39;00m \u001B[38;5;28;43mself\u001B[39;49m\u001B[38;5;241;43m.\u001B[39;49m\u001B[43m_search\u001B[49m\u001B[43m(\u001B[49m\u001B[43mnode\u001B[49m\u001B[38;5;241;43m.\u001B[39;49m\u001B[43mright\u001B[49m\u001B[43m,\u001B[49m\u001B[43m \u001B[49m\u001B[43mkey\u001B[49m\u001B[43m,\u001B[49m\u001B[43m \u001B[49m\u001B[43md\u001B[49m\u001B[43m)\u001B[49m\n\u001B[0;32m     56\u001B[0m \u001B[38;5;28;01melif\u001B[39;00m d \u001B[38;5;241m<\u001B[39m \u001B[38;5;28mlen\u001B[39m(key) \u001B[38;5;241m-\u001B[39m \u001B[38;5;241m1\u001B[39m:\n\u001B[0;32m     57\u001B[0m     \u001B[38;5;28;01mreturn\u001B[39;00m \u001B[38;5;28mself\u001B[39m\u001B[38;5;241m.\u001B[39m_search(node\u001B[38;5;241m.\u001B[39mmid, key, d \u001B[38;5;241m+\u001B[39m \u001B[38;5;241m1\u001B[39m)\n",
      "    \u001B[1;31m[... skipping similar frames: TernarySearchTree._search at line 53 (1 times)]\u001B[0m\n",
      "Cell \u001B[1;32mIn[3], line 53\u001B[0m, in \u001B[0;36mTernarySearchTree._search\u001B[1;34m(self, node, key, d)\u001B[0m\n\u001B[0;32m     51\u001B[0m char \u001B[38;5;241m=\u001B[39m key[d]\n\u001B[0;32m     52\u001B[0m \u001B[38;5;28;01mif\u001B[39;00m char \u001B[38;5;241m<\u001B[39m node\u001B[38;5;241m.\u001B[39mchar:\n\u001B[1;32m---> 53\u001B[0m     \u001B[38;5;28;01mreturn\u001B[39;00m \u001B[38;5;28;43mself\u001B[39;49m\u001B[38;5;241;43m.\u001B[39;49m\u001B[43m_search\u001B[49m\u001B[43m(\u001B[49m\u001B[43mnode\u001B[49m\u001B[38;5;241;43m.\u001B[39;49m\u001B[43mleft\u001B[49m\u001B[43m,\u001B[49m\u001B[43m \u001B[49m\u001B[43mkey\u001B[49m\u001B[43m,\u001B[49m\u001B[43m \u001B[49m\u001B[43md\u001B[49m\u001B[43m)\u001B[49m\n\u001B[0;32m     54\u001B[0m \u001B[38;5;28;01melif\u001B[39;00m char \u001B[38;5;241m>\u001B[39m node\u001B[38;5;241m.\u001B[39mchar:\n\u001B[0;32m     55\u001B[0m     \u001B[38;5;28;01mreturn\u001B[39;00m \u001B[38;5;28mself\u001B[39m\u001B[38;5;241m.\u001B[39m_search(node\u001B[38;5;241m.\u001B[39mright, key, d)\n",
      "Cell \u001B[1;32mIn[3], line 49\u001B[0m, in \u001B[0;36mTernarySearchTree._search\u001B[1;34m(self, node, key, d)\u001B[0m\n\u001B[0;32m     40\u001B[0m \u001B[38;5;28;01mdef\u001B[39;00m \u001B[38;5;21m_search\u001B[39m(\u001B[38;5;28mself\u001B[39m, node, key, d):\n\u001B[0;32m     41\u001B[0m \u001B[38;5;250m    \u001B[39m\u001B[38;5;124;03m\"\"\"\u001B[39;00m\n\u001B[0;32m     42\u001B[0m \u001B[38;5;124;03m    Helper method for search. Recursively search for the key in the TST.\u001B[39;00m\n\u001B[0;32m     43\u001B[0m \u001B[38;5;124;03m        node (Node): The current node.\u001B[39;00m\n\u001B[1;32m   (...)\u001B[0m\n\u001B[0;32m     47\u001B[0m \u001B[38;5;124;03m        Node: The node if the key is found, None otherwise.\u001B[39;00m\n\u001B[0;32m     48\u001B[0m \u001B[38;5;124;03m    \"\"\"\u001B[39;00m\n\u001B[1;32m---> 49\u001B[0m     \u001B[38;5;28;01mif\u001B[39;00m \u001B[43mnode\u001B[49m\u001B[43m \u001B[49m\u001B[38;5;129;43;01mis\u001B[39;49;00m\u001B[43m \u001B[49m\u001B[38;5;28;43;01mNone\u001B[39;49;00m:\n\u001B[0;32m     50\u001B[0m         \u001B[38;5;28;01mreturn\u001B[39;00m \u001B[38;5;28;01mNone\u001B[39;00m\n\u001B[0;32m     51\u001B[0m     char \u001B[38;5;241m=\u001B[39m key[d]\n",
      "\u001B[1;31mKeyboardInterrupt\u001B[0m: "
     ]
    }
   ],
   "source": [
    "import time\n",
    "import random\n",
    "import matplotlib.pyplot as plt\n",
    "\n",
    "# assume 'words' and 'TernarySearchTree' are already defined\n",
    "sizes = [100, 500, 1000, 5000, 10000, 20000, 30000, 40000, 50000, 100000, 500000, 800000,1000000, 2000000\n",
    "nr_samples = 20  # number of random samples to test for each sample size\n",
    "\n",
    "times_insert = {}\n",
    "times_search = {}\n",
    "\n",
    "for size in sizes:\n",
    "    times_insert[size] = 0.0\n",
    "    times_search[size] = 0.0\n",
    "    for _ in range(nr_samples):\n",
    "        sample = random.sample(words_larger, k=size)\n",
    "        tst = TernarySearchTree()\n",
    "\n",
    "        # measure insertion time\n",
    "        start_time = time.time_ns()\n",
    "        for word in sample:\n",
    "            tst.insert(word)\n",
    "        end_time = time.time_ns()\n",
    "        times_insert[size] += end_time - start_time\n",
    "\n",
    "        # measure search time\n",
    "        start_time = time.time_ns()\n",
    "        for word in sample:\n",
    "            tst.search(word)\n",
    "        end_time = time.time_ns()\n",
    "        times_search[size] += end_time - start_time\n",
    "\n",
    "    times_insert[size] /= nr_samples * 1_000_000.0\n",
    "    times_search[size] /= nr_samples * 1_000_000.0\n",
    "\n",
    "# print times\n",
    "print(\"Insertion times:\", times_insert)\n",
    "print(\"Search times:\", times_search)\n",
    "\n",
    "# plot times\n",
    "plt.figure(figsize=(10,6))\n",
    "plt.plot(times_insert.keys(), times_insert.values(), label='Insertion Time')\n",
    "plt.plot(times_search.keys(), times_search.values(), label='Search Time')\n",
    "plt.xlabel('Sample Size')\n",
    "plt.ylabel('Time (milliseconds)')\n",
    "plt.title('Time Complexity of Insert and Search Operations in TST')\n",
    "plt.legend()\n",
    "plt.show()"
   ],
   "metadata": {
    "collapsed": false,
    "ExecuteTime": {
     "end_time": "2023-06-14T15:52:50.758469100Z",
     "start_time": "2023-06-14T13:54:22.386834600Z"
    }
   }
  },
  {
   "cell_type": "code",
   "execution_count": null,
   "outputs": [],
   "source": [],
   "metadata": {
    "collapsed": false
   }
  },
  {
   "cell_type": "code",
   "execution_count": null,
   "outputs": [],
   "source": [],
   "metadata": {
    "collapsed": false
   }
  },
  {
   "cell_type": "code",
   "execution_count": null,
   "outputs": [],
   "source": [],
   "metadata": {
    "collapsed": false
   }
  },
  {
   "cell_type": "code",
   "execution_count": null,
   "metadata": {
    "ExecuteTime": {
     "start_time": "2023-06-14T11:43:42.510778Z"
    }
   },
   "outputs": [],
   "source": []
  },
  {
   "cell_type": "code",
   "execution_count": null,
   "metadata": {
    "ExecuteTime": {
     "start_time": "2023-06-14T11:43:42.514777700Z"
    }
   },
   "outputs": [],
   "source": [
    "sizes = [100, 500, 1_000, 5_000, 10_000, 20_000, 30_000, 40_000, 50_000, 100_000]\n",
    "samples = [\n",
    "    random.sample(words, k=size) for size in sizes\n",
    "]\n",
    "for sample in samples:\n",
    "    tst = TernarySearchTree()\n",
    "sample = random.sample(words, k=100)\n",
    "tst = TernarySearchTree()\n",
    "for word in sample:\n",
    "    tst.insert(word)\n",
    "\n",
    "nr_samples = 10  # number of random samples to test for each sample size\n",
    "nr_runs = 10  # number of runs for each sample\n",
    "times = {}\n",
    "\n",
    "for size in sizes:\n",
    "    times[size] = 0.0\n",
    "    for _ in range(nr_samples):\n",
    "        sample = random.sample(words, k=size)\n",
    "        tst = TernarySearchTree()\n",
    "        for word in sample:\n",
    "            tst.insert(word)\n",
    "        for _ in range(nr_runs):\n",
    "            start_time = time.time_ns()\n",
    "            for word in sample:\n",
    "                tst.insert(word)\n",
    "            end_time = time.time_ns()\n",
    "            times[size] += end_time - start_time\n",
    "    times[size] /= nr_runs * nr_samples * 1_000_000.0\n",
    "\n",
    "times"
   ]
  },
  {
   "cell_type": "code",
   "execution_count": null,
   "metadata": {
    "ExecuteTime": {
     "start_time": "2023-06-14T11:43:42.517136100Z"
    }
   },
   "outputs": [],
   "source": []
  },
  {
   "cell_type": "code",
   "execution_count": null,
   "metadata": {
    "ExecuteTime": {
     "start_time": "2023-06-14T11:43:42.520164Z"
    }
   },
   "outputs": [],
   "source": [
    "#selecting random\n",
    "\n",
    "import random\n",
    "import time\n",
    "\n",
    "tst = TernarySearchTree()\n",
    "\n",
    "start_time = time.time()\n",
    "for word in words:\n",
    "    tst.insert(word)\n",
    "end_time = time.time()\n",
    "\n",
    "insert_time = end_time - start_time\n",
    "print(f\"Time taken to insert words: {insert_time} seconds\")"
   ]
  },
  {
   "cell_type": "code",
   "execution_count": null,
   "metadata": {
    "ExecuteTime": {
     "start_time": "2023-06-14T11:43:42.521731300Z"
    }
   },
   "outputs": [],
   "source": [
    "start_time = time.time()\n",
    "for word in words:\n",
    "    tst.search(word)\n",
    "end_time = time.time()\n",
    "\n",
    "search_time = end_time - start_time\n",
    "print(f\"Time taken to search for words: {search_time} seconds\")"
   ]
  },
  {
   "cell_type": "code",
   "execution_count": null,
   "metadata": {
    "ExecuteTime": {
     "start_time": "2023-06-14T11:43:42.524285800Z"
    }
   },
   "outputs": [],
   "source": [
    "import timeit\n",
    "\n",
    "tst = TernarySearchTree()\n",
    "insert_time = timeit.timeit(lambda: tst.insert('helloDumbledore'), number=100000)\n",
    "print(f'Time to insert a word 1000 times: {insert_time} seconds')"
   ]
  },
  {
   "cell_type": "markdown",
   "metadata": {},
   "source": []
  },
  {
   "cell_type": "markdown",
   "metadata": {},
   "source": [
    "### Discussion on the expected complexity of the algorithm and operations <a name=\"Discussion_on_the_expected_complexity\"></a>"
   ]
  },
  {
   "cell_type": "markdown",
   "metadata": {},
   "source": [
    "### Comparison of the implementation with the theoretical expectations <a name=\"Comparison_of_the_implementation_with_the_theoretical_expectations\"></a>"
   ]
  },
  {
   "cell_type": "markdown",
   "metadata": {},
   "source": [
    "## Benchmarking <a name=\"Benchmarking\"></a>"
   ]
  },
  {
   "cell_type": "markdown",
   "metadata": {},
   "source": [
    "### Generation of a larger dataset <a name=\"Generation_of_a_larger_dataset\"></a>"
   ]
  },
  {
   "cell_type": "markdown",
   "metadata": {},
   "source": [
    "### Benchmarking the scaling behavior of the implementation <a name=\"Benchmarking_the_scaling_behavior_of_the_implementation\"></a>"
   ]
  },
  {
   "cell_type": "markdown",
   "metadata": {},
   "source": [
    "### Analysis and interpretation of the benchmarking results <a name=\"Analysis_and_interpretation_of_the_benchmarking_results\"></a>"
   ]
  },
  {
   "cell_type": "markdown",
   "metadata": {},
   "source": [
    "## Conclusion <a name=\"Conclusion\"></a>"
   ]
  },
  {
   "cell_type": "markdown",
   "metadata": {},
   "source": [
    "### Summary of the project <a name=\"Summary_of_the_project\"></a>"
   ]
  },
  {
   "cell_type": "markdown",
   "metadata": {},
   "source": [
    "### Potential improvements and future work <a name=\"Potential_improvements_and_future_work\"></a>"
   ]
  },
  {
   "cell_type": "markdown",
   "metadata": {},
   "source": [
    "## References <a name=\"references\"></a>\n",
    "\n",
    "1. Sedgewick, R. & Wayne, K. (2011), Algorithms, 4th Edition. , Addison-Wesley.\n",
    "2. Karumanchi, N., (2016), Data Structures and Algorithmic Thinking with Python, CareerMonk Publications."
   ]
  },
  {
   "cell_type": "code",
   "execution_count": null,
   "metadata": {
    "ExecuteTime": {
     "start_time": "2023-06-14T11:43:42.524285800Z"
    }
   },
   "outputs": [],
   "source": []
  },
  {
   "cell_type": "code",
   "execution_count": null,
   "metadata": {
    "ExecuteTime": {
     "start_time": "2023-06-14T11:43:42.526454900Z"
    }
   },
   "outputs": [],
   "source": []
  }
 ],
 "metadata": {
  "kernelspec": {
   "display_name": "Python 3 (ipykernel)",
   "language": "python",
   "name": "python3"
  },
  "language_info": {
   "codemirror_mode": {
    "name": "ipython",
    "version": 3
   },
   "file_extension": ".py",
   "mimetype": "text/x-python",
   "name": "python",
   "nbconvert_exporter": "python",
   "pygments_lexer": "ipython3",
   "version": "3.10.11"
  }
 },
 "nbformat": 4,
 "nbformat_minor": 1
}
