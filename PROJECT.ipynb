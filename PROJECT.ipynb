{
 "cells": [
  {
   "attachments": {},
   "cell_type": "markdown",
   "metadata": {
    "collapsed": true
   },
   "source": [
    "## Project Concepts of Data Science\n",
    "\n",
    "### Authors: Eleftherios Kokkinis (2262635) -  Engie Rakipi"
   ]
  },
  {
   "cell_type": "markdown",
   "source": [
    "1. [Introduction](#Introduction)\n",
    "    1. [Definition of a Ternary Search Tree](#Definition_of_a_Ternary_Search_Tree)\n",
    "    2. [Brief description of the algorithm](#Brief_description_of_the_algorithm)\n",
    "    3. [Avantages of TSTs](#advantages_of_TSTs)\n",
    "2. [Theory](#Theory)\n",
    "    1. [Detailed explanation of how TSTs work](#Detailed_explanation_of_how_TSTs_work)\n",
    "    2. [Description of the operations: insert, search, and all_string](#Description_of_the_operations)\n",
    "    3. [Complexity analysis](#Complexity_analysis_of_the_operations)\n",
    "3. [Implementation](#Implementation)\n",
    "    1. [Python class definition for the TST](#Python_class_definition_for_the_TST)\n",
    "    2. [Implementation of the insert operation](#Implementation_of_the_insert_operation)\n",
    "    3. [Implementation of the search operation](#Implementation_of_the_search_operation)\n",
    "    4. [Implementation of the all_string operation](#Implementation_of_the_all_string_operation)\n",
    "4. [Example Usage](#Example_Usage)\n",
    "    1. [Creation of a TST](#Creation_of_a_TST)\n",
    "    2. [Insertion of elements into the TST](#Insertion_of_elements_into_the_TST)\n",
    "    3. [Searching for elements in the TST](#Searching_for_elements_in_the_TST)\n",
    "    4. [Displaying all strings in the TST](#Displaying_all_strings_in_the_TST)\n",
    "    5. [Plotting the TST](#Plotting_the_TST)\n",
    "5. [Testing](#Testing)\n",
    "    1. [Unit tests for the insert operation](#Unit_tests_for_the_insert_operation)\n",
    "    2. [Unit tests for the search operation](#Unit_tests_for_the_search_operation)\n",
    "    3. [Unit tests for the all_string operation](#Unit_tests_for_the_all_string_operation)\n",
    "6. [Discussion](#Discussion)\n",
    "    1. [Discussion on the expected complexity of the algorithm and operations](#Discussion_on_the_expected_complexity)\n",
    "    2. [Comparison of the implementation with the theoretical expectations](#Comparison_of_the_implementation_with_the_theoretical_expectations)\n",
    "7. [Benchmarking](#Benchmarking)\n",
    "    1. [Generation of a larger dataset](#Generation_of_a_larger_dataset)\n",
    "    2. [Benchmarking the scaling behavior of the implementation](#Benchmarking_the_scaling_behavior_of_the_implementation)\n",
    "    3. [Analysis and interpretation of the benchmarking results](#Analysis_and_interpretation_of_the_benchmarking_results)\n",
    "8. [Conclusion](#Conclusion)\n",
    "    1. [Summary of the project](#Summary_of_the_project)\n",
    "    2. [Potential improvements and future work](#Potential_improvements_and_future_work)"
   ],
   "metadata": {
    "collapsed": false
   }
  },
  {
   "cell_type": "markdown",
   "source": [
    "## Introduction <a name=\"Introduction\"></a>"
   ],
   "metadata": {
    "collapsed": false
   }
  },
  {
   "cell_type": "markdown",
   "source": [
    "### Definition of a Ternary Search Tree <a name=\"Definition_of_a_Ternary_Search_Tree\"></a>"
   ],
   "metadata": {
    "collapsed": false
   }
  },
  {
   "cell_type": "markdown",
   "source": [
    "### Brief description of the algorithm <a name=\"Brief_description_of_the_algorithm\"></a>"
   ],
   "metadata": {
    "collapsed": false
   }
  },
  {
   "cell_type": "markdown",
   "source": [
    "### Advantages of TSTs <a name=\"advantages_of_TSTs\"></a>"
   ],
   "metadata": {
    "collapsed": false
   }
  },
  {
   "cell_type": "markdown",
   "source": [
    "## Theory <a name=\"Theory\"></a>"
   ],
   "metadata": {
    "collapsed": false
   }
  },
  {
   "cell_type": "markdown",
   "source": [
    "### Detailed explanation of how TSTs work <a name=\"Detailed_explanation_of_how_TSTs_work\"></a>"
   ],
   "metadata": {
    "collapsed": false
   }
  },
  {
   "cell_type": "markdown",
   "source": [
    "### Description of the operations: insert, search, and all_string <a name=\"Description_of_the_operations\"></a>"
   ],
   "metadata": {
    "collapsed": false
   }
  },
  {
   "cell_type": "markdown",
   "source": [
    "### Complexity analysis<a name=\"Complexity_analysis_of_the_operations\"></a>"
   ],
   "metadata": {
    "collapsed": false
   }
  },
  {
   "cell_type": "markdown",
   "source": [
    "## Implementation <a name=\"Implementation\"></a>"
   ],
   "metadata": {
    "collapsed": false
   }
  },
  {
   "cell_type": "markdown",
   "source": [
    "### Python class definition for the TST <a name=\"Python_class_definition_for_the_TST\"></a>"
   ],
   "metadata": {
    "collapsed": false
   }
  },
  {
   "cell_type": "markdown",
   "source": [
    "### Creation of a TST <a name=\"Creation_of_a_TST\"></a>"
   ],
   "metadata": {
    "collapsed": false
   }
  },
  {
   "cell_type": "markdown",
   "source": [
    "### Insertion of elements into the TST <a name=\"Insertion_of_elements_into_the_TST\"></a>"
   ],
   "metadata": {
    "collapsed": false
   }
  },
  {
   "cell_type": "markdown",
   "source": [
    "### Searching for elements in the TST <a name=\"Searching_for_elements_in_the_TST\"></a>"
   ],
   "metadata": {
    "collapsed": false
   }
  },
  {
   "cell_type": "markdown",
   "source": [
    "### Displaying all strings in the TST <a name=\"Displaying_all_strings_in_the_TST\"></a>"
   ],
   "metadata": {
    "collapsed": false
   }
  },
  {
   "cell_type": "markdown",
   "source": [
    "### Plotting the TST <a name=\"Plotting_the_TST\"></a>"
   ],
   "metadata": {
    "collapsed": false
   }
  },
  {
   "cell_type": "markdown",
   "source": [
    "## Testing <a name=\"Testing\"></a>"
   ],
   "metadata": {
    "collapsed": false
   }
  },
  {
   "cell_type": "markdown",
   "source": [
    "### Unit tests for the insert operation <a name=\"Unit_tests_for_the_insert_operation\"></a>"
   ],
   "metadata": {
    "collapsed": false
   }
  },
  {
   "cell_type": "markdown",
   "source": [
    "### Unit tests for the search operation <a name=\"Unit_tests_for_the_search_operation\"></a>"
   ],
   "metadata": {
    "collapsed": false
   }
  },
  {
   "cell_type": "markdown",
   "source": [
    "### Unit tests for the all_string operation <a name=\"Unit_tests_for_the_all_string_operation\"></a>"
   ],
   "metadata": {
    "collapsed": false
   }
  },
  {
   "cell_type": "markdown",
   "source": [
    "## Discussion <a name=\"Discussion\"></a>"
   ],
   "metadata": {
    "collapsed": false
   }
  },
  {
   "cell_type": "markdown",
   "source": [
    "### Discussion on the expected complexity of the algorithm and operations <a name=\"Discussion_on_the_expected_complexity\"></a>"
   ],
   "metadata": {
    "collapsed": false
   }
  },
  {
   "cell_type": "markdown",
   "source": [
    "### Comparison of the implementation with the theoretical expectations <a name=\"Comparison_of_the_implementation_with_the_theoretical_expectations\"></a>"
   ],
   "metadata": {
    "collapsed": false
   }
  },
  {
   "cell_type": "markdown",
   "source": [
    "## Benchmarking <a name=\"Benchmarking\"></a>"
   ],
   "metadata": {
    "collapsed": false
   }
  },
  {
   "cell_type": "markdown",
   "source": [
    "### Generation of a larger dataset <a name=\"Generation_of_a_larger_dataset\"></a>"
   ],
   "metadata": {
    "collapsed": false
   }
  },
  {
   "cell_type": "markdown",
   "source": [
    "### Benchmarking the scaling behavior of the implementation <a name=\"Benchmarking_the_scaling_behavior_of_the_implementation\"></a>"
   ],
   "metadata": {
    "collapsed": false
   }
  },
  {
   "cell_type": "markdown",
   "source": [
    "### Analysis and interpretation of the benchmarking results <a name=\"Analysis_and_interpretation_of_the_benchmarking_results\"></a>"
   ],
   "metadata": {
    "collapsed": false
   }
  },
  {
   "cell_type": "markdown",
   "source": [
    "## Conclusion <a name=\"Conclusion\"></a>"
   ],
   "metadata": {
    "collapsed": false
   }
  },
  {
   "cell_type": "markdown",
   "source": [
    "### Summary of the project <a name=\"Summary_of_the_project\"></a>"
   ],
   "metadata": {
    "collapsed": false
   }
  },
  {
   "cell_type": "markdown",
   "source": [
    "### Potential improvements and future work <a name=\"Potential_improvements_and_future_work\"></a>"
   ],
   "metadata": {
    "collapsed": false
   }
  },
  {
   "cell_type": "code",
   "execution_count": null,
   "outputs": [],
   "source": [],
   "metadata": {
    "collapsed": false
   }
  }
 ],
 "metadata": {
  "kernelspec": {
   "display_name": "Python 3",
   "language": "python",
   "name": "python3"
  },
  "language_info": {
   "codemirror_mode": {
    "name": "ipython",
    "version": 3
   },
   "file_extension": ".py",
   "mimetype": "text/x-python",
   "name": "python",
   "nbconvert_exporter": "python",
   "pygments_lexer": "ipython3",
   "version": "3.10.9"
  }
 },
 "nbformat": 4,
 "nbformat_minor": 0
}
